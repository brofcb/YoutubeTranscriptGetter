{
  "nbformat": 4,
  "nbformat_minor": 0,
  "metadata": {
    "colab": {
      "name": "youtube test",
      "provenance": [],
      "collapsed_sections": [],
      "toc_visible": true
    },
    "kernelspec": {
      "name": "python3",
      "display_name": "Python 3"
    },
    "accelerator": "GPU",
    "widgets": {
      "application/vnd.jupyter.widget-state+json": {
        "3f2532190cad461da517a0246f8300bf": {
          "model_module": "@jupyter-widgets/controls",
          "model_name": "HBoxModel",
          "state": {
            "_view_name": "HBoxView",
            "_dom_classes": [],
            "_model_name": "HBoxModel",
            "_view_module": "@jupyter-widgets/controls",
            "_model_module_version": "1.5.0",
            "_view_count": null,
            "_view_module_version": "1.5.0",
            "box_style": "",
            "layout": "IPY_MODEL_2dd9950657af48a68bd41a69b89a1b16",
            "_model_module": "@jupyter-widgets/controls",
            "children": [
              "IPY_MODEL_a505ae7facf54a0ca75ef691a20952bf",
              "IPY_MODEL_8f28ee54de4a4bd9b830d5883cbc2383"
            ]
          }
        },
        "2dd9950657af48a68bd41a69b89a1b16": {
          "model_module": "@jupyter-widgets/base",
          "model_name": "LayoutModel",
          "state": {
            "_view_name": "LayoutView",
            "grid_template_rows": null,
            "right": null,
            "justify_content": null,
            "_view_module": "@jupyter-widgets/base",
            "overflow": null,
            "_model_module_version": "1.2.0",
            "_view_count": null,
            "flex_flow": null,
            "width": null,
            "min_width": null,
            "border": null,
            "align_items": null,
            "bottom": null,
            "_model_module": "@jupyter-widgets/base",
            "top": null,
            "grid_column": null,
            "overflow_y": null,
            "overflow_x": null,
            "grid_auto_flow": null,
            "grid_area": null,
            "grid_template_columns": null,
            "flex": null,
            "_model_name": "LayoutModel",
            "justify_items": null,
            "grid_row": null,
            "max_height": null,
            "align_content": null,
            "visibility": null,
            "align_self": null,
            "height": null,
            "min_height": null,
            "padding": null,
            "grid_auto_rows": null,
            "grid_gap": null,
            "max_width": null,
            "order": null,
            "_view_module_version": "1.2.0",
            "grid_template_areas": null,
            "object_position": null,
            "object_fit": null,
            "grid_auto_columns": null,
            "margin": null,
            "display": null,
            "left": null
          }
        },
        "a505ae7facf54a0ca75ef691a20952bf": {
          "model_module": "@jupyter-widgets/controls",
          "model_name": "FloatProgressModel",
          "state": {
            "_view_name": "ProgressView",
            "style": "IPY_MODEL_97cd13ce40f74c049706b97f302070b1",
            "_dom_classes": [],
            "description": "100%",
            "_model_name": "FloatProgressModel",
            "bar_style": "success",
            "max": 901,
            "_view_module": "@jupyter-widgets/controls",
            "_model_module_version": "1.5.0",
            "value": 901,
            "_view_count": null,
            "_view_module_version": "1.5.0",
            "orientation": "horizontal",
            "min": 0,
            "description_tooltip": null,
            "_model_module": "@jupyter-widgets/controls",
            "layout": "IPY_MODEL_8d643a2cfb444ed99cc4dcbd3401f217"
          }
        },
        "8f28ee54de4a4bd9b830d5883cbc2383": {
          "model_module": "@jupyter-widgets/controls",
          "model_name": "HTMLModel",
          "state": {
            "_view_name": "HTMLView",
            "style": "IPY_MODEL_68e3a88a7e2b4457a27ec1fd98501eef",
            "_dom_classes": [],
            "description": "",
            "_model_name": "HTMLModel",
            "placeholder": "​",
            "_view_module": "@jupyter-widgets/controls",
            "_model_module_version": "1.5.0",
            "value": " 901/901 [00:00&lt;00:00, 1.18kB/s]",
            "_view_count": null,
            "_view_module_version": "1.5.0",
            "description_tooltip": null,
            "_model_module": "@jupyter-widgets/controls",
            "layout": "IPY_MODEL_f26625ff5be64eaaaf11583932aa7975"
          }
        },
        "97cd13ce40f74c049706b97f302070b1": {
          "model_module": "@jupyter-widgets/controls",
          "model_name": "ProgressStyleModel",
          "state": {
            "_view_name": "StyleView",
            "_model_name": "ProgressStyleModel",
            "description_width": "initial",
            "_view_module": "@jupyter-widgets/base",
            "_model_module_version": "1.5.0",
            "_view_count": null,
            "_view_module_version": "1.2.0",
            "bar_color": null,
            "_model_module": "@jupyter-widgets/controls"
          }
        },
        "8d643a2cfb444ed99cc4dcbd3401f217": {
          "model_module": "@jupyter-widgets/base",
          "model_name": "LayoutModel",
          "state": {
            "_view_name": "LayoutView",
            "grid_template_rows": null,
            "right": null,
            "justify_content": null,
            "_view_module": "@jupyter-widgets/base",
            "overflow": null,
            "_model_module_version": "1.2.0",
            "_view_count": null,
            "flex_flow": null,
            "width": null,
            "min_width": null,
            "border": null,
            "align_items": null,
            "bottom": null,
            "_model_module": "@jupyter-widgets/base",
            "top": null,
            "grid_column": null,
            "overflow_y": null,
            "overflow_x": null,
            "grid_auto_flow": null,
            "grid_area": null,
            "grid_template_columns": null,
            "flex": null,
            "_model_name": "LayoutModel",
            "justify_items": null,
            "grid_row": null,
            "max_height": null,
            "align_content": null,
            "visibility": null,
            "align_self": null,
            "height": null,
            "min_height": null,
            "padding": null,
            "grid_auto_rows": null,
            "grid_gap": null,
            "max_width": null,
            "order": null,
            "_view_module_version": "1.2.0",
            "grid_template_areas": null,
            "object_position": null,
            "object_fit": null,
            "grid_auto_columns": null,
            "margin": null,
            "display": null,
            "left": null
          }
        },
        "68e3a88a7e2b4457a27ec1fd98501eef": {
          "model_module": "@jupyter-widgets/controls",
          "model_name": "DescriptionStyleModel",
          "state": {
            "_view_name": "StyleView",
            "_model_name": "DescriptionStyleModel",
            "description_width": "",
            "_view_module": "@jupyter-widgets/base",
            "_model_module_version": "1.5.0",
            "_view_count": null,
            "_view_module_version": "1.2.0",
            "_model_module": "@jupyter-widgets/controls"
          }
        },
        "f26625ff5be64eaaaf11583932aa7975": {
          "model_module": "@jupyter-widgets/base",
          "model_name": "LayoutModel",
          "state": {
            "_view_name": "LayoutView",
            "grid_template_rows": null,
            "right": null,
            "justify_content": null,
            "_view_module": "@jupyter-widgets/base",
            "overflow": null,
            "_model_module_version": "1.2.0",
            "_view_count": null,
            "flex_flow": null,
            "width": null,
            "min_width": null,
            "border": null,
            "align_items": null,
            "bottom": null,
            "_model_module": "@jupyter-widgets/base",
            "top": null,
            "grid_column": null,
            "overflow_y": null,
            "overflow_x": null,
            "grid_auto_flow": null,
            "grid_area": null,
            "grid_template_columns": null,
            "flex": null,
            "_model_name": "LayoutModel",
            "justify_items": null,
            "grid_row": null,
            "max_height": null,
            "align_content": null,
            "visibility": null,
            "align_self": null,
            "height": null,
            "min_height": null,
            "padding": null,
            "grid_auto_rows": null,
            "grid_gap": null,
            "max_width": null,
            "order": null,
            "_view_module_version": "1.2.0",
            "grid_template_areas": null,
            "object_position": null,
            "object_fit": null,
            "grid_auto_columns": null,
            "margin": null,
            "display": null,
            "left": null
          }
        },
        "12da37b6d0034f2498a5fcf6c9aff1b9": {
          "model_module": "@jupyter-widgets/controls",
          "model_name": "HBoxModel",
          "state": {
            "_view_name": "HBoxView",
            "_dom_classes": [],
            "_model_name": "HBoxModel",
            "_view_module": "@jupyter-widgets/controls",
            "_model_module_version": "1.5.0",
            "_view_count": null,
            "_view_module_version": "1.5.0",
            "box_style": "",
            "layout": "IPY_MODEL_9963ac914c2d4cca9a9977232d207669",
            "_model_module": "@jupyter-widgets/controls",
            "children": [
              "IPY_MODEL_dd0bf4a3d8d844c1b83d98884b2010ba",
              "IPY_MODEL_af2e029b03394ce99d6159ce0cf75466"
            ]
          }
        },
        "9963ac914c2d4cca9a9977232d207669": {
          "model_module": "@jupyter-widgets/base",
          "model_name": "LayoutModel",
          "state": {
            "_view_name": "LayoutView",
            "grid_template_rows": null,
            "right": null,
            "justify_content": null,
            "_view_module": "@jupyter-widgets/base",
            "overflow": null,
            "_model_module_version": "1.2.0",
            "_view_count": null,
            "flex_flow": null,
            "width": null,
            "min_width": null,
            "border": null,
            "align_items": null,
            "bottom": null,
            "_model_module": "@jupyter-widgets/base",
            "top": null,
            "grid_column": null,
            "overflow_y": null,
            "overflow_x": null,
            "grid_auto_flow": null,
            "grid_area": null,
            "grid_template_columns": null,
            "flex": null,
            "_model_name": "LayoutModel",
            "justify_items": null,
            "grid_row": null,
            "max_height": null,
            "align_content": null,
            "visibility": null,
            "align_self": null,
            "height": null,
            "min_height": null,
            "padding": null,
            "grid_auto_rows": null,
            "grid_gap": null,
            "max_width": null,
            "order": null,
            "_view_module_version": "1.2.0",
            "grid_template_areas": null,
            "object_position": null,
            "object_fit": null,
            "grid_auto_columns": null,
            "margin": null,
            "display": null,
            "left": null
          }
        },
        "dd0bf4a3d8d844c1b83d98884b2010ba": {
          "model_module": "@jupyter-widgets/controls",
          "model_name": "FloatProgressModel",
          "state": {
            "_view_name": "ProgressView",
            "style": "IPY_MODEL_7ad899b55eb2481cb7cf67d994d8de9f",
            "_dom_classes": [],
            "description": "100%",
            "_model_name": "FloatProgressModel",
            "bar_style": "success",
            "max": 1529,
            "_view_module": "@jupyter-widgets/controls",
            "_model_module_version": "1.5.0",
            "value": 1529,
            "_view_count": null,
            "_view_module_version": "1.5.0",
            "orientation": "horizontal",
            "min": 0,
            "description_tooltip": null,
            "_model_module": "@jupyter-widgets/controls",
            "layout": "IPY_MODEL_3742f767a176498681d4ab28c55edf23"
          }
        },
        "af2e029b03394ce99d6159ce0cf75466": {
          "model_module": "@jupyter-widgets/controls",
          "model_name": "HTMLModel",
          "state": {
            "_view_name": "HTMLView",
            "style": "IPY_MODEL_36c9b4a82b8a48cdbf6297f5a322a599",
            "_dom_classes": [],
            "description": "",
            "_model_name": "HTMLModel",
            "placeholder": "​",
            "_view_module": "@jupyter-widgets/controls",
            "_model_module_version": "1.5.0",
            "value": " 1.49k/1.49k [00:00&lt;00:00, 41.0kB/s]",
            "_view_count": null,
            "_view_module_version": "1.5.0",
            "description_tooltip": null,
            "_model_module": "@jupyter-widgets/controls",
            "layout": "IPY_MODEL_0d886def88f8465c92586120b2872f7c"
          }
        },
        "7ad899b55eb2481cb7cf67d994d8de9f": {
          "model_module": "@jupyter-widgets/controls",
          "model_name": "ProgressStyleModel",
          "state": {
            "_view_name": "StyleView",
            "_model_name": "ProgressStyleModel",
            "description_width": "initial",
            "_view_module": "@jupyter-widgets/base",
            "_model_module_version": "1.5.0",
            "_view_count": null,
            "_view_module_version": "1.2.0",
            "bar_color": null,
            "_model_module": "@jupyter-widgets/controls"
          }
        },
        "3742f767a176498681d4ab28c55edf23": {
          "model_module": "@jupyter-widgets/base",
          "model_name": "LayoutModel",
          "state": {
            "_view_name": "LayoutView",
            "grid_template_rows": null,
            "right": null,
            "justify_content": null,
            "_view_module": "@jupyter-widgets/base",
            "overflow": null,
            "_model_module_version": "1.2.0",
            "_view_count": null,
            "flex_flow": null,
            "width": null,
            "min_width": null,
            "border": null,
            "align_items": null,
            "bottom": null,
            "_model_module": "@jupyter-widgets/base",
            "top": null,
            "grid_column": null,
            "overflow_y": null,
            "overflow_x": null,
            "grid_auto_flow": null,
            "grid_area": null,
            "grid_template_columns": null,
            "flex": null,
            "_model_name": "LayoutModel",
            "justify_items": null,
            "grid_row": null,
            "max_height": null,
            "align_content": null,
            "visibility": null,
            "align_self": null,
            "height": null,
            "min_height": null,
            "padding": null,
            "grid_auto_rows": null,
            "grid_gap": null,
            "max_width": null,
            "order": null,
            "_view_module_version": "1.2.0",
            "grid_template_areas": null,
            "object_position": null,
            "object_fit": null,
            "grid_auto_columns": null,
            "margin": null,
            "display": null,
            "left": null
          }
        },
        "36c9b4a82b8a48cdbf6297f5a322a599": {
          "model_module": "@jupyter-widgets/controls",
          "model_name": "DescriptionStyleModel",
          "state": {
            "_view_name": "StyleView",
            "_model_name": "DescriptionStyleModel",
            "description_width": "",
            "_view_module": "@jupyter-widgets/base",
            "_model_module_version": "1.5.0",
            "_view_count": null,
            "_view_module_version": "1.2.0",
            "_model_module": "@jupyter-widgets/controls"
          }
        },
        "0d886def88f8465c92586120b2872f7c": {
          "model_module": "@jupyter-widgets/base",
          "model_name": "LayoutModel",
          "state": {
            "_view_name": "LayoutView",
            "grid_template_rows": null,
            "right": null,
            "justify_content": null,
            "_view_module": "@jupyter-widgets/base",
            "overflow": null,
            "_model_module_version": "1.2.0",
            "_view_count": null,
            "flex_flow": null,
            "width": null,
            "min_width": null,
            "border": null,
            "align_items": null,
            "bottom": null,
            "_model_module": "@jupyter-widgets/base",
            "top": null,
            "grid_column": null,
            "overflow_y": null,
            "overflow_x": null,
            "grid_auto_flow": null,
            "grid_area": null,
            "grid_template_columns": null,
            "flex": null,
            "_model_name": "LayoutModel",
            "justify_items": null,
            "grid_row": null,
            "max_height": null,
            "align_content": null,
            "visibility": null,
            "align_self": null,
            "height": null,
            "min_height": null,
            "padding": null,
            "grid_auto_rows": null,
            "grid_gap": null,
            "max_width": null,
            "order": null,
            "_view_module_version": "1.2.0",
            "grid_template_areas": null,
            "object_position": null,
            "object_fit": null,
            "grid_auto_columns": null,
            "margin": null,
            "display": null,
            "left": null
          }
        },
        "ab0814bc5212402e8ae91e3cc76be1d4": {
          "model_module": "@jupyter-widgets/controls",
          "model_name": "HBoxModel",
          "state": {
            "_view_name": "HBoxView",
            "_dom_classes": [],
            "_model_name": "HBoxModel",
            "_view_module": "@jupyter-widgets/controls",
            "_model_module_version": "1.5.0",
            "_view_count": null,
            "_view_module_version": "1.5.0",
            "box_style": "",
            "layout": "IPY_MODEL_34842cc07c074df780e0706bf6c65136",
            "_model_module": "@jupyter-widgets/controls",
            "children": [
              "IPY_MODEL_8138c1c1144d44d1a4976b7d5f1c07e8",
              "IPY_MODEL_8f5e61b5ea69410cb5efa939448d41e5"
            ]
          }
        },
        "34842cc07c074df780e0706bf6c65136": {
          "model_module": "@jupyter-widgets/base",
          "model_name": "LayoutModel",
          "state": {
            "_view_name": "LayoutView",
            "grid_template_rows": null,
            "right": null,
            "justify_content": null,
            "_view_module": "@jupyter-widgets/base",
            "overflow": null,
            "_model_module_version": "1.2.0",
            "_view_count": null,
            "flex_flow": null,
            "width": null,
            "min_width": null,
            "border": null,
            "align_items": null,
            "bottom": null,
            "_model_module": "@jupyter-widgets/base",
            "top": null,
            "grid_column": null,
            "overflow_y": null,
            "overflow_x": null,
            "grid_auto_flow": null,
            "grid_area": null,
            "grid_template_columns": null,
            "flex": null,
            "_model_name": "LayoutModel",
            "justify_items": null,
            "grid_row": null,
            "max_height": null,
            "align_content": null,
            "visibility": null,
            "align_self": null,
            "height": null,
            "min_height": null,
            "padding": null,
            "grid_auto_rows": null,
            "grid_gap": null,
            "max_width": null,
            "order": null,
            "_view_module_version": "1.2.0",
            "grid_template_areas": null,
            "object_position": null,
            "object_fit": null,
            "grid_auto_columns": null,
            "margin": null,
            "display": null,
            "left": null
          }
        },
        "8138c1c1144d44d1a4976b7d5f1c07e8": {
          "model_module": "@jupyter-widgets/controls",
          "model_name": "FloatProgressModel",
          "state": {
            "_view_name": "ProgressView",
            "style": "IPY_MODEL_08ad7711e0254b5882cf7c0417ca7089",
            "_dom_classes": [],
            "description": "100%",
            "_model_name": "FloatProgressModel",
            "bar_style": "success",
            "max": 2531992,
            "_view_module": "@jupyter-widgets/controls",
            "_model_module_version": "1.5.0",
            "value": 2531992,
            "_view_count": null,
            "_view_module_version": "1.5.0",
            "orientation": "horizontal",
            "min": 0,
            "description_tooltip": null,
            "_model_module": "@jupyter-widgets/controls",
            "layout": "IPY_MODEL_61f175952e7f46b1bdfbc2de145b2ee5"
          }
        },
        "8f5e61b5ea69410cb5efa939448d41e5": {
          "model_module": "@jupyter-widgets/controls",
          "model_name": "HTMLModel",
          "state": {
            "_view_name": "HTMLView",
            "style": "IPY_MODEL_031529366daf4722bec5eeaa2d035c6e",
            "_dom_classes": [],
            "description": "",
            "_model_name": "HTMLModel",
            "placeholder": "​",
            "_view_module": "@jupyter-widgets/controls",
            "_model_module_version": "1.5.0",
            "value": " 2.41M/2.41M [00:00&lt;00:00, 14.3MB/s]",
            "_view_count": null,
            "_view_module_version": "1.5.0",
            "description_tooltip": null,
            "_model_module": "@jupyter-widgets/controls",
            "layout": "IPY_MODEL_18459eed8e2e4db791ff04b1b550ba0e"
          }
        },
        "08ad7711e0254b5882cf7c0417ca7089": {
          "model_module": "@jupyter-widgets/controls",
          "model_name": "ProgressStyleModel",
          "state": {
            "_view_name": "StyleView",
            "_model_name": "ProgressStyleModel",
            "description_width": "initial",
            "_view_module": "@jupyter-widgets/base",
            "_model_module_version": "1.5.0",
            "_view_count": null,
            "_view_module_version": "1.2.0",
            "bar_color": null,
            "_model_module": "@jupyter-widgets/controls"
          }
        },
        "61f175952e7f46b1bdfbc2de145b2ee5": {
          "model_module": "@jupyter-widgets/base",
          "model_name": "LayoutModel",
          "state": {
            "_view_name": "LayoutView",
            "grid_template_rows": null,
            "right": null,
            "justify_content": null,
            "_view_module": "@jupyter-widgets/base",
            "overflow": null,
            "_model_module_version": "1.2.0",
            "_view_count": null,
            "flex_flow": null,
            "width": null,
            "min_width": null,
            "border": null,
            "align_items": null,
            "bottom": null,
            "_model_module": "@jupyter-widgets/base",
            "top": null,
            "grid_column": null,
            "overflow_y": null,
            "overflow_x": null,
            "grid_auto_flow": null,
            "grid_area": null,
            "grid_template_columns": null,
            "flex": null,
            "_model_name": "LayoutModel",
            "justify_items": null,
            "grid_row": null,
            "max_height": null,
            "align_content": null,
            "visibility": null,
            "align_self": null,
            "height": null,
            "min_height": null,
            "padding": null,
            "grid_auto_rows": null,
            "grid_gap": null,
            "max_width": null,
            "order": null,
            "_view_module_version": "1.2.0",
            "grid_template_areas": null,
            "object_position": null,
            "object_fit": null,
            "grid_auto_columns": null,
            "margin": null,
            "display": null,
            "left": null
          }
        },
        "031529366daf4722bec5eeaa2d035c6e": {
          "model_module": "@jupyter-widgets/controls",
          "model_name": "DescriptionStyleModel",
          "state": {
            "_view_name": "StyleView",
            "_model_name": "DescriptionStyleModel",
            "description_width": "",
            "_view_module": "@jupyter-widgets/base",
            "_model_module_version": "1.5.0",
            "_view_count": null,
            "_view_module_version": "1.2.0",
            "_model_module": "@jupyter-widgets/controls"
          }
        },
        "18459eed8e2e4db791ff04b1b550ba0e": {
          "model_module": "@jupyter-widgets/base",
          "model_name": "LayoutModel",
          "state": {
            "_view_name": "LayoutView",
            "grid_template_rows": null,
            "right": null,
            "justify_content": null,
            "_view_module": "@jupyter-widgets/base",
            "overflow": null,
            "_model_module_version": "1.2.0",
            "_view_count": null,
            "flex_flow": null,
            "width": null,
            "min_width": null,
            "border": null,
            "align_items": null,
            "bottom": null,
            "_model_module": "@jupyter-widgets/base",
            "top": null,
            "grid_column": null,
            "overflow_y": null,
            "overflow_x": null,
            "grid_auto_flow": null,
            "grid_area": null,
            "grid_template_columns": null,
            "flex": null,
            "_model_name": "LayoutModel",
            "justify_items": null,
            "grid_row": null,
            "max_height": null,
            "align_content": null,
            "visibility": null,
            "align_self": null,
            "height": null,
            "min_height": null,
            "padding": null,
            "grid_auto_rows": null,
            "grid_gap": null,
            "max_width": null,
            "order": null,
            "_view_module_version": "1.2.0",
            "grid_template_areas": null,
            "object_position": null,
            "object_fit": null,
            "grid_auto_columns": null,
            "margin": null,
            "display": null,
            "left": null
          }
        },
        "cfdab2c7b4ab435cbb9cd83338d6ceb7": {
          "model_module": "@jupyter-widgets/controls",
          "model_name": "HBoxModel",
          "state": {
            "_view_name": "HBoxView",
            "_dom_classes": [],
            "_model_name": "HBoxModel",
            "_view_module": "@jupyter-widgets/controls",
            "_model_module_version": "1.5.0",
            "_view_count": null,
            "_view_module_version": "1.5.0",
            "box_style": "",
            "layout": "IPY_MODEL_8dd3c980ab994a6f86fe6e397942e74a",
            "_model_module": "@jupyter-widgets/controls",
            "children": [
              "IPY_MODEL_739bbbd697a742a4bc7b512382228523",
              "IPY_MODEL_01cf31fb58a04082b42dcd9c0caba212"
            ]
          }
        },
        "8dd3c980ab994a6f86fe6e397942e74a": {
          "model_module": "@jupyter-widgets/base",
          "model_name": "LayoutModel",
          "state": {
            "_view_name": "LayoutView",
            "grid_template_rows": null,
            "right": null,
            "justify_content": null,
            "_view_module": "@jupyter-widgets/base",
            "overflow": null,
            "_model_module_version": "1.2.0",
            "_view_count": null,
            "flex_flow": null,
            "width": null,
            "min_width": null,
            "border": null,
            "align_items": null,
            "bottom": null,
            "_model_module": "@jupyter-widgets/base",
            "top": null,
            "grid_column": null,
            "overflow_y": null,
            "overflow_x": null,
            "grid_auto_flow": null,
            "grid_area": null,
            "grid_template_columns": null,
            "flex": null,
            "_model_name": "LayoutModel",
            "justify_items": null,
            "grid_row": null,
            "max_height": null,
            "align_content": null,
            "visibility": null,
            "align_self": null,
            "height": null,
            "min_height": null,
            "padding": null,
            "grid_auto_rows": null,
            "grid_gap": null,
            "max_width": null,
            "order": null,
            "_view_module_version": "1.2.0",
            "grid_template_areas": null,
            "object_position": null,
            "object_fit": null,
            "grid_auto_columns": null,
            "margin": null,
            "display": null,
            "left": null
          }
        },
        "739bbbd697a742a4bc7b512382228523": {
          "model_module": "@jupyter-widgets/controls",
          "model_name": "FloatProgressModel",
          "state": {
            "_view_name": "ProgressView",
            "style": "IPY_MODEL_a7393164b5044393b2e8bc315d209c9b",
            "_dom_classes": [],
            "description": "100%",
            "_model_name": "FloatProgressModel",
            "bar_style": "success",
            "max": 2513556,
            "_view_module": "@jupyter-widgets/controls",
            "_model_module_version": "1.5.0",
            "value": 2513556,
            "_view_count": null,
            "_view_module_version": "1.5.0",
            "orientation": "horizontal",
            "min": 0,
            "description_tooltip": null,
            "_model_module": "@jupyter-widgets/controls",
            "layout": "IPY_MODEL_dacfd3e20a0e4647a44d4911c94b2b88"
          }
        },
        "01cf31fb58a04082b42dcd9c0caba212": {
          "model_module": "@jupyter-widgets/controls",
          "model_name": "HTMLModel",
          "state": {
            "_view_name": "HTMLView",
            "style": "IPY_MODEL_6b5b0ffddc8a43d1826b368f97b74aa0",
            "_dom_classes": [],
            "description": "",
            "_model_name": "HTMLModel",
            "placeholder": "​",
            "_view_module": "@jupyter-widgets/controls",
            "_model_module_version": "1.5.0",
            "value": " 2.40M/2.40M [00:00&lt;00:00, 25.3MB/s]",
            "_view_count": null,
            "_view_module_version": "1.5.0",
            "description_tooltip": null,
            "_model_module": "@jupyter-widgets/controls",
            "layout": "IPY_MODEL_8bdfd280730a4ae982fdf086902003f7"
          }
        },
        "a7393164b5044393b2e8bc315d209c9b": {
          "model_module": "@jupyter-widgets/controls",
          "model_name": "ProgressStyleModel",
          "state": {
            "_view_name": "StyleView",
            "_model_name": "ProgressStyleModel",
            "description_width": "initial",
            "_view_module": "@jupyter-widgets/base",
            "_model_module_version": "1.5.0",
            "_view_count": null,
            "_view_module_version": "1.2.0",
            "bar_color": null,
            "_model_module": "@jupyter-widgets/controls"
          }
        },
        "dacfd3e20a0e4647a44d4911c94b2b88": {
          "model_module": "@jupyter-widgets/base",
          "model_name": "LayoutModel",
          "state": {
            "_view_name": "LayoutView",
            "grid_template_rows": null,
            "right": null,
            "justify_content": null,
            "_view_module": "@jupyter-widgets/base",
            "overflow": null,
            "_model_module_version": "1.2.0",
            "_view_count": null,
            "flex_flow": null,
            "width": null,
            "min_width": null,
            "border": null,
            "align_items": null,
            "bottom": null,
            "_model_module": "@jupyter-widgets/base",
            "top": null,
            "grid_column": null,
            "overflow_y": null,
            "overflow_x": null,
            "grid_auto_flow": null,
            "grid_area": null,
            "grid_template_columns": null,
            "flex": null,
            "_model_name": "LayoutModel",
            "justify_items": null,
            "grid_row": null,
            "max_height": null,
            "align_content": null,
            "visibility": null,
            "align_self": null,
            "height": null,
            "min_height": null,
            "padding": null,
            "grid_auto_rows": null,
            "grid_gap": null,
            "max_width": null,
            "order": null,
            "_view_module_version": "1.2.0",
            "grid_template_areas": null,
            "object_position": null,
            "object_fit": null,
            "grid_auto_columns": null,
            "margin": null,
            "display": null,
            "left": null
          }
        },
        "6b5b0ffddc8a43d1826b368f97b74aa0": {
          "model_module": "@jupyter-widgets/controls",
          "model_name": "DescriptionStyleModel",
          "state": {
            "_view_name": "StyleView",
            "_model_name": "DescriptionStyleModel",
            "description_width": "",
            "_view_module": "@jupyter-widgets/base",
            "_model_module_version": "1.5.0",
            "_view_count": null,
            "_view_module_version": "1.2.0",
            "_model_module": "@jupyter-widgets/controls"
          }
        },
        "8bdfd280730a4ae982fdf086902003f7": {
          "model_module": "@jupyter-widgets/base",
          "model_name": "LayoutModel",
          "state": {
            "_view_name": "LayoutView",
            "grid_template_rows": null,
            "right": null,
            "justify_content": null,
            "_view_module": "@jupyter-widgets/base",
            "overflow": null,
            "_model_module_version": "1.2.0",
            "_view_count": null,
            "flex_flow": null,
            "width": null,
            "min_width": null,
            "border": null,
            "align_items": null,
            "bottom": null,
            "_model_module": "@jupyter-widgets/base",
            "top": null,
            "grid_column": null,
            "overflow_y": null,
            "overflow_x": null,
            "grid_auto_flow": null,
            "grid_area": null,
            "grid_template_columns": null,
            "flex": null,
            "_model_name": "LayoutModel",
            "justify_items": null,
            "grid_row": null,
            "max_height": null,
            "align_content": null,
            "visibility": null,
            "align_self": null,
            "height": null,
            "min_height": null,
            "padding": null,
            "grid_auto_rows": null,
            "grid_gap": null,
            "max_width": null,
            "order": null,
            "_view_module_version": "1.2.0",
            "grid_template_areas": null,
            "object_position": null,
            "object_fit": null,
            "grid_auto_columns": null,
            "margin": null,
            "display": null,
            "left": null
          }
        },
        "0e66099f49f74f5bbcafcb7991e5048c": {
          "model_module": "@jupyter-widgets/controls",
          "model_name": "HBoxModel",
          "state": {
            "_view_name": "HBoxView",
            "_dom_classes": [],
            "_model_name": "HBoxModel",
            "_view_module": "@jupyter-widgets/controls",
            "_model_module_version": "1.5.0",
            "_view_count": null,
            "_view_module_version": "1.5.0",
            "box_style": "",
            "layout": "IPY_MODEL_3bca5854ac6d4acdaa84dd7771a64f43",
            "_model_module": "@jupyter-widgets/controls",
            "children": [
              "IPY_MODEL_2c7f8b93542044c09c8030026c6d7613",
              "IPY_MODEL_55e22de2fc0e4bd5a13f52ad0de75166"
            ]
          }
        },
        "3bca5854ac6d4acdaa84dd7771a64f43": {
          "model_module": "@jupyter-widgets/base",
          "model_name": "LayoutModel",
          "state": {
            "_view_name": "LayoutView",
            "grid_template_rows": null,
            "right": null,
            "justify_content": null,
            "_view_module": "@jupyter-widgets/base",
            "overflow": null,
            "_model_module_version": "1.2.0",
            "_view_count": null,
            "flex_flow": null,
            "width": null,
            "min_width": null,
            "border": null,
            "align_items": null,
            "bottom": null,
            "_model_module": "@jupyter-widgets/base",
            "top": null,
            "grid_column": null,
            "overflow_y": null,
            "overflow_x": null,
            "grid_auto_flow": null,
            "grid_area": null,
            "grid_template_columns": null,
            "flex": null,
            "_model_name": "LayoutModel",
            "justify_items": null,
            "grid_row": null,
            "max_height": null,
            "align_content": null,
            "visibility": null,
            "align_self": null,
            "height": null,
            "min_height": null,
            "padding": null,
            "grid_auto_rows": null,
            "grid_gap": null,
            "max_width": null,
            "order": null,
            "_view_module_version": "1.2.0",
            "grid_template_areas": null,
            "object_position": null,
            "object_fit": null,
            "grid_auto_columns": null,
            "margin": null,
            "display": null,
            "left": null
          }
        },
        "2c7f8b93542044c09c8030026c6d7613": {
          "model_module": "@jupyter-widgets/controls",
          "model_name": "FloatProgressModel",
          "state": {
            "_view_name": "ProgressView",
            "style": "IPY_MODEL_568eb360ff5e4104a38a24c11d3cedcf",
            "_dom_classes": [],
            "description": "100%",
            "_model_name": "FloatProgressModel",
            "bar_style": "success",
            "max": 17125163,
            "_view_module": "@jupyter-widgets/controls",
            "_model_module_version": "1.5.0",
            "value": 17125163,
            "_view_count": null,
            "_view_module_version": "1.5.0",
            "orientation": "horizontal",
            "min": 0,
            "description_tooltip": null,
            "_model_module": "@jupyter-widgets/controls",
            "layout": "IPY_MODEL_ba759f2a0c2e4aeb8ddad93bf9041c9e"
          }
        },
        "55e22de2fc0e4bd5a13f52ad0de75166": {
          "model_module": "@jupyter-widgets/controls",
          "model_name": "HTMLModel",
          "state": {
            "_view_name": "HTMLView",
            "style": "IPY_MODEL_00a4bab5d2be4d0e97d1fc59f20b7778",
            "_dom_classes": [],
            "description": "",
            "_model_name": "HTMLModel",
            "placeholder": "​",
            "_view_module": "@jupyter-widgets/controls",
            "_model_module_version": "1.5.0",
            "value": " 16.3M/16.3M [00:00&lt;00:00, 42.1MB/s]",
            "_view_count": null,
            "_view_module_version": "1.5.0",
            "description_tooltip": null,
            "_model_module": "@jupyter-widgets/controls",
            "layout": "IPY_MODEL_854974f2cfe34e24b3abe95199cb46ee"
          }
        },
        "568eb360ff5e4104a38a24c11d3cedcf": {
          "model_module": "@jupyter-widgets/controls",
          "model_name": "ProgressStyleModel",
          "state": {
            "_view_name": "StyleView",
            "_model_name": "ProgressStyleModel",
            "description_width": "initial",
            "_view_module": "@jupyter-widgets/base",
            "_model_module_version": "1.5.0",
            "_view_count": null,
            "_view_module_version": "1.2.0",
            "bar_color": null,
            "_model_module": "@jupyter-widgets/controls"
          }
        },
        "ba759f2a0c2e4aeb8ddad93bf9041c9e": {
          "model_module": "@jupyter-widgets/base",
          "model_name": "LayoutModel",
          "state": {
            "_view_name": "LayoutView",
            "grid_template_rows": null,
            "right": null,
            "justify_content": null,
            "_view_module": "@jupyter-widgets/base",
            "overflow": null,
            "_model_module_version": "1.2.0",
            "_view_count": null,
            "flex_flow": null,
            "width": null,
            "min_width": null,
            "border": null,
            "align_items": null,
            "bottom": null,
            "_model_module": "@jupyter-widgets/base",
            "top": null,
            "grid_column": null,
            "overflow_y": null,
            "overflow_x": null,
            "grid_auto_flow": null,
            "grid_area": null,
            "grid_template_columns": null,
            "flex": null,
            "_model_name": "LayoutModel",
            "justify_items": null,
            "grid_row": null,
            "max_height": null,
            "align_content": null,
            "visibility": null,
            "align_self": null,
            "height": null,
            "min_height": null,
            "padding": null,
            "grid_auto_rows": null,
            "grid_gap": null,
            "max_width": null,
            "order": null,
            "_view_module_version": "1.2.0",
            "grid_template_areas": null,
            "object_position": null,
            "object_fit": null,
            "grid_auto_columns": null,
            "margin": null,
            "display": null,
            "left": null
          }
        },
        "00a4bab5d2be4d0e97d1fc59f20b7778": {
          "model_module": "@jupyter-widgets/controls",
          "model_name": "DescriptionStyleModel",
          "state": {
            "_view_name": "StyleView",
            "_model_name": "DescriptionStyleModel",
            "description_width": "",
            "_view_module": "@jupyter-widgets/base",
            "_model_module_version": "1.5.0",
            "_view_count": null,
            "_view_module_version": "1.2.0",
            "_model_module": "@jupyter-widgets/controls"
          }
        },
        "854974f2cfe34e24b3abe95199cb46ee": {
          "model_module": "@jupyter-widgets/base",
          "model_name": "LayoutModel",
          "state": {
            "_view_name": "LayoutView",
            "grid_template_rows": null,
            "right": null,
            "justify_content": null,
            "_view_module": "@jupyter-widgets/base",
            "overflow": null,
            "_model_module_version": "1.2.0",
            "_view_count": null,
            "flex_flow": null,
            "width": null,
            "min_width": null,
            "border": null,
            "align_items": null,
            "bottom": null,
            "_model_module": "@jupyter-widgets/base",
            "top": null,
            "grid_column": null,
            "overflow_y": null,
            "overflow_x": null,
            "grid_auto_flow": null,
            "grid_area": null,
            "grid_template_columns": null,
            "flex": null,
            "_model_name": "LayoutModel",
            "justify_items": null,
            "grid_row": null,
            "max_height": null,
            "align_content": null,
            "visibility": null,
            "align_self": null,
            "height": null,
            "min_height": null,
            "padding": null,
            "grid_auto_rows": null,
            "grid_gap": null,
            "max_width": null,
            "order": null,
            "_view_module_version": "1.2.0",
            "grid_template_areas": null,
            "object_position": null,
            "object_fit": null,
            "grid_auto_columns": null,
            "margin": null,
            "display": null,
            "left": null
          }
        },
        "b6478e241b874b2096bb46e2a9f054cc": {
          "model_module": "@jupyter-widgets/controls",
          "model_name": "HBoxModel",
          "state": {
            "_view_name": "HBoxView",
            "_dom_classes": [],
            "_model_name": "HBoxModel",
            "_view_module": "@jupyter-widgets/controls",
            "_model_module_version": "1.5.0",
            "_view_count": null,
            "_view_module_version": "1.5.0",
            "box_style": "",
            "layout": "IPY_MODEL_89c345810fe44bc3ab4c06e640f8b24a",
            "_model_module": "@jupyter-widgets/controls",
            "children": [
              "IPY_MODEL_fac4d6b1d95d40bda06be8a8decfd2e8",
              "IPY_MODEL_b8d36cf831da4e3782a34bb77306047a"
            ]
          }
        },
        "89c345810fe44bc3ab4c06e640f8b24a": {
          "model_module": "@jupyter-widgets/base",
          "model_name": "LayoutModel",
          "state": {
            "_view_name": "LayoutView",
            "grid_template_rows": null,
            "right": null,
            "justify_content": null,
            "_view_module": "@jupyter-widgets/base",
            "overflow": null,
            "_model_module_version": "1.2.0",
            "_view_count": null,
            "flex_flow": null,
            "width": null,
            "min_width": null,
            "border": null,
            "align_items": null,
            "bottom": null,
            "_model_module": "@jupyter-widgets/base",
            "top": null,
            "grid_column": null,
            "overflow_y": null,
            "overflow_x": null,
            "grid_auto_flow": null,
            "grid_area": null,
            "grid_template_columns": null,
            "flex": null,
            "_model_name": "LayoutModel",
            "justify_items": null,
            "grid_row": null,
            "max_height": null,
            "align_content": null,
            "visibility": null,
            "align_self": null,
            "height": null,
            "min_height": null,
            "padding": null,
            "grid_auto_rows": null,
            "grid_gap": null,
            "max_width": null,
            "order": null,
            "_view_module_version": "1.2.0",
            "grid_template_areas": null,
            "object_position": null,
            "object_fit": null,
            "grid_auto_columns": null,
            "margin": null,
            "display": null,
            "left": null
          }
        },
        "fac4d6b1d95d40bda06be8a8decfd2e8": {
          "model_module": "@jupyter-widgets/controls",
          "model_name": "FloatProgressModel",
          "state": {
            "_view_name": "ProgressView",
            "style": "IPY_MODEL_208bfb70c1154455ab758d06ee52c309",
            "_dom_classes": [],
            "description": "100%",
            "_model_name": "FloatProgressModel",
            "bar_style": "success",
            "max": 2529931,
            "_view_module": "@jupyter-widgets/controls",
            "_model_module_version": "1.5.0",
            "value": 2529931,
            "_view_count": null,
            "_view_module_version": "1.5.0",
            "orientation": "horizontal",
            "min": 0,
            "description_tooltip": null,
            "_model_module": "@jupyter-widgets/controls",
            "layout": "IPY_MODEL_55ac4954373d446ebc954b0a7903c674"
          }
        },
        "b8d36cf831da4e3782a34bb77306047a": {
          "model_module": "@jupyter-widgets/controls",
          "model_name": "HTMLModel",
          "state": {
            "_view_name": "HTMLView",
            "style": "IPY_MODEL_48435b42fa7c4fe8809677d4b901ce92",
            "_dom_classes": [],
            "description": "",
            "_model_name": "HTMLModel",
            "placeholder": "​",
            "_view_module": "@jupyter-widgets/controls",
            "_model_module_version": "1.5.0",
            "value": " 2.41M/2.41M [00:00&lt;00:00, 21.5MB/s]",
            "_view_count": null,
            "_view_module_version": "1.5.0",
            "description_tooltip": null,
            "_model_module": "@jupyter-widgets/controls",
            "layout": "IPY_MODEL_5364859f0049427d8d81dae92bbadd50"
          }
        },
        "208bfb70c1154455ab758d06ee52c309": {
          "model_module": "@jupyter-widgets/controls",
          "model_name": "ProgressStyleModel",
          "state": {
            "_view_name": "StyleView",
            "_model_name": "ProgressStyleModel",
            "description_width": "initial",
            "_view_module": "@jupyter-widgets/base",
            "_model_module_version": "1.5.0",
            "_view_count": null,
            "_view_module_version": "1.2.0",
            "bar_color": null,
            "_model_module": "@jupyter-widgets/controls"
          }
        },
        "55ac4954373d446ebc954b0a7903c674": {
          "model_module": "@jupyter-widgets/base",
          "model_name": "LayoutModel",
          "state": {
            "_view_name": "LayoutView",
            "grid_template_rows": null,
            "right": null,
            "justify_content": null,
            "_view_module": "@jupyter-widgets/base",
            "overflow": null,
            "_model_module_version": "1.2.0",
            "_view_count": null,
            "flex_flow": null,
            "width": null,
            "min_width": null,
            "border": null,
            "align_items": null,
            "bottom": null,
            "_model_module": "@jupyter-widgets/base",
            "top": null,
            "grid_column": null,
            "overflow_y": null,
            "overflow_x": null,
            "grid_auto_flow": null,
            "grid_area": null,
            "grid_template_columns": null,
            "flex": null,
            "_model_name": "LayoutModel",
            "justify_items": null,
            "grid_row": null,
            "max_height": null,
            "align_content": null,
            "visibility": null,
            "align_self": null,
            "height": null,
            "min_height": null,
            "padding": null,
            "grid_auto_rows": null,
            "grid_gap": null,
            "max_width": null,
            "order": null,
            "_view_module_version": "1.2.0",
            "grid_template_areas": null,
            "object_position": null,
            "object_fit": null,
            "grid_auto_columns": null,
            "margin": null,
            "display": null,
            "left": null
          }
        },
        "48435b42fa7c4fe8809677d4b901ce92": {
          "model_module": "@jupyter-widgets/controls",
          "model_name": "DescriptionStyleModel",
          "state": {
            "_view_name": "StyleView",
            "_model_name": "DescriptionStyleModel",
            "description_width": "",
            "_view_module": "@jupyter-widgets/base",
            "_model_module_version": "1.5.0",
            "_view_count": null,
            "_view_module_version": "1.2.0",
            "_model_module": "@jupyter-widgets/controls"
          }
        },
        "5364859f0049427d8d81dae92bbadd50": {
          "model_module": "@jupyter-widgets/base",
          "model_name": "LayoutModel",
          "state": {
            "_view_name": "LayoutView",
            "grid_template_rows": null,
            "right": null,
            "justify_content": null,
            "_view_module": "@jupyter-widgets/base",
            "overflow": null,
            "_model_module_version": "1.2.0",
            "_view_count": null,
            "flex_flow": null,
            "width": null,
            "min_width": null,
            "border": null,
            "align_items": null,
            "bottom": null,
            "_model_module": "@jupyter-widgets/base",
            "top": null,
            "grid_column": null,
            "overflow_y": null,
            "overflow_x": null,
            "grid_auto_flow": null,
            "grid_area": null,
            "grid_template_columns": null,
            "flex": null,
            "_model_name": "LayoutModel",
            "justify_items": null,
            "grid_row": null,
            "max_height": null,
            "align_content": null,
            "visibility": null,
            "align_self": null,
            "height": null,
            "min_height": null,
            "padding": null,
            "grid_auto_rows": null,
            "grid_gap": null,
            "max_width": null,
            "order": null,
            "_view_module_version": "1.2.0",
            "grid_template_areas": null,
            "object_position": null,
            "object_fit": null,
            "grid_auto_columns": null,
            "margin": null,
            "display": null,
            "left": null
          }
        }
      }
    }
  },
  "cells": [
    {
      "cell_type": "code",
      "metadata": {
        "id": "Rt5Lw2Mlz6VA",
        "colab_type": "code",
        "colab": {
          "base_uri": "https://localhost:8080/",
          "height": 34
        },
        "outputId": "4e841b67-d122-43ad-8161-0cd0851e56c3"
      },
      "source": [
        "!git clone https://github.com/brofcb/YoutubeTranscriptGetter.git"
      ],
      "execution_count": 11,
      "outputs": [
        {
          "output_type": "stream",
          "text": [
            "fatal: destination path 'YoutubeTranscriptGetter' already exists and is not an empty directory.\n"
          ],
          "name": "stdout"
        }
      ]
    },
    {
      "cell_type": "code",
      "metadata": {
        "id": "AK_VKl9z0tVb",
        "colab_type": "code",
        "colab": {
          "base_uri": "https://localhost:8080/",
          "height": 121
        },
        "outputId": "8ed1fd12-6b0e-4c6a-ca2f-6f5faa2c4736"
      },
      "source": [
        "!pip install pytube3"
      ],
      "execution_count": 2,
      "outputs": [
        {
          "output_type": "stream",
          "text": [
            "Collecting pytube3\n",
            "  Downloading https://files.pythonhosted.org/packages/de/86/198092763646eac7abd2063192ab44ea44ad8fd6d6f3ad8586b38afcd52a/pytube3-9.6.4-py3-none-any.whl\n",
            "Requirement already satisfied: typing-extensions in /usr/local/lib/python3.6/dist-packages (from pytube3) (3.7.4.2)\n",
            "Installing collected packages: pytube3\n",
            "Successfully installed pytube3-9.6.4\n"
          ],
          "name": "stdout"
        }
      ]
    },
    {
      "cell_type": "code",
      "metadata": {
        "id": "yoo9Ie541jZd",
        "colab_type": "code",
        "colab": {
          "base_uri": "https://localhost:8080/",
          "height": 188
        },
        "outputId": "57aef77b-aae1-4d9e-e435-53cf92c14481"
      },
      "source": [
        "!pip install youtube-transcript-api"
      ],
      "execution_count": 3,
      "outputs": [
        {
          "output_type": "stream",
          "text": [
            "Collecting youtube-transcript-api\n",
            "  Downloading https://files.pythonhosted.org/packages/21/81/c4ae5534b113f4938b482f360babbbe6fda550441a4af8e1007dba518586/youtube_transcript_api-0.3.1-py3-none-any.whl\n",
            "Requirement already satisfied: requests in /usr/local/lib/python3.6/dist-packages (from youtube-transcript-api) (2.23.0)\n",
            "Requirement already satisfied: urllib3!=1.25.0,!=1.25.1,<1.26,>=1.21.1 in /usr/local/lib/python3.6/dist-packages (from requests->youtube-transcript-api) (1.24.3)\n",
            "Requirement already satisfied: idna<3,>=2.5 in /usr/local/lib/python3.6/dist-packages (from requests->youtube-transcript-api) (2.10)\n",
            "Requirement already satisfied: certifi>=2017.4.17 in /usr/local/lib/python3.6/dist-packages (from requests->youtube-transcript-api) (2020.6.20)\n",
            "Requirement already satisfied: chardet<4,>=3.0.2 in /usr/local/lib/python3.6/dist-packages (from requests->youtube-transcript-api) (3.0.4)\n",
            "Installing collected packages: youtube-transcript-api\n",
            "Successfully installed youtube-transcript-api-0.3.1\n"
          ],
          "name": "stdout"
        }
      ]
    },
    {
      "cell_type": "code",
      "metadata": {
        "id": "OchoCx88z6Rq",
        "colab_type": "code",
        "colab": {
          "base_uri": "https://localhost:8080/",
          "height": 370
        },
        "outputId": "498934d2-cb69-409e-eecf-b9aefc836358"
      },
      "source": [
        "!cd YoutubeTranscriptGetter;python3 ./YoutubeDataApi.py"
      ],
      "execution_count": 4,
      "outputs": [
        {
          "output_type": "stream",
          "text": [
            "Imageio: 'ffmpeg-linux64-v3.3.1' was not found on your computer; downloading it now.\n",
            "Try 1. Download from https://github.com/imageio/imageio-binaries/raw/master/ffmpeg/ffmpeg-linux64-v3.3.1 (43.8 MB)\n",
            "Downloading: 8192/45929032 bytes (0.0%)\b\b\b\b\b\b\b\b\b\b\b\b\b\b\b\b\b\b\b\b\b\b\b\b\b\b3186688/45929032 bytes (6.9%)\b\b\b\b\b\b\b\b\b\b\b\b\b\b\b\b\b\b\b\b\b\b\b\b\b\b\b\b\b7413760/45929032 bytes (16.1%)\b\b\b\b\b\b\b\b\b\b\b\b\b\b\b\b\b\b\b\b\b\b\b\b\b\b\b\b\b\b11616256/45929032 bytes (25.3%)\b\b\b\b\b\b\b\b\b\b\b\b\b\b\b\b\b\b\b\b\b\b\b\b\b\b\b\b\b\b\b15949824/45929032 bytes (34.7%)\b\b\b\b\b\b\b\b\b\b\b\b\b\b\b\b\b\b\b\b\b\b\b\b\b\b\b\b\b\b\b19865600/45929032 bytes (43.3%)\b\b\b\b\b\b\b\b\b\b\b\b\b\b\b\b\b\b\b\b\b\b\b\b\b\b\b\b\b\b\b24035328/45929032 bytes (52.3%)\b\b\b\b\b\b\b\b\b\b\b\b\b\b\b\b\b\b\b\b\b\b\b\b\b\b\b\b\b\b\b28155904/45929032 bytes (61.3%)\b\b\b\b\b\b\b\b\b\b\b\b\b\b\b\b\b\b\b\b\b\b\b\b\b\b\b\b\b\b\b32391168/45929032 bytes (70.5%)\b\b\b\b\b\b\b\b\b\b\b\b\b\b\b\b\b\b\b\b\b\b\b\b\b\b\b\b\b\b\b36691968/45929032 bytes (79.9%)\b\b\b\b\b\b\b\b\b\b\b\b\b\b\b\b\b\b\b\b\b\b\b\b\b\b\b\b\b\b\b40689664/45929032 bytes (88.6%)\b\b\b\b\b\b\b\b\b\b\b\b\b\b\b\b\b\b\b\b\b\b\b\b\b\b\b\b\b\b\b45039616/45929032 bytes (98.1%)\b\b\b\b\b\b\b\b\b\b\b\b\b\b\b\b\b\b\b\b\b\b\b\b\b\b\b\b\b\b\b45929032/45929032 bytes (100.0%)\n",
            "  Done\n",
            "File saved as /root/.imageio/ffmpeg/ffmpeg-linux64-v3.3.1.\n",
            "Successfully created the directory /content/YoutubeTranscriptGetter/videos \n",
            "1 Downloading...\n",
            "2 Downloading...\n",
            "Successfully created the directory /content/YoutubeTranscriptGetter/video_scripts \n",
            "1 Writing to file...\n",
            "2 Writing to file...\n",
            "Successfully created the directory /content/YoutubeTranscriptGetter/Json_scripts \n",
            "1 Writing to json file...\n",
            "2 Writing to json file...\n",
            "Successfully created the directory /content/YoutubeTranscriptGetter/audio \n",
            "[MoviePy] Writing audio in /content/YoutubeTranscriptGetter/audio/joe_rogan_dwayne_the_rock_johnson_for_president_.wav\n",
            "100% 6843/6843 [00:03<00:00, 2161.30it/s]\n",
            "[MoviePy] Done.\n",
            "[MoviePy] Writing audio in /content/YoutubeTranscriptGetter/audio/apple_s_pro_display_xdr_a_pc_guy_s_perspective.wav\n",
            "100% 15930/15930 [00:07<00:00, 2211.50it/s]\n",
            "[MoviePy] Done.\n"
          ],
          "name": "stdout"
        }
      ]
    },
    {
      "cell_type": "code",
      "metadata": {
        "id": "vJGyKTQJqdzq",
        "colab_type": "code",
        "colab": {
          "base_uri": "https://localhost:8080/",
          "height": 1000
        },
        "outputId": "f7de9319-12db-4fdc-cede-059dfba96961"
      },
      "source": [
        "!pip install https://github.com/pyannote/pyannote-audio/tarball/develop"
      ],
      "execution_count": 5,
      "outputs": [
        {
          "output_type": "stream",
          "text": [
            "Collecting https://github.com/pyannote/pyannote-audio/tarball/develop\n",
            "\u001b[?25l  Downloading https://github.com/pyannote/pyannote-audio/tarball/develop\n",
            "\u001b[K     / 16.2MB 3.0MB/s\n",
            "\u001b[?25hRequirement already satisfied: cachetools>=2.0.0 in /usr/local/lib/python3.6/dist-packages (from pyannote.audio==0+unknown) (4.1.1)\n",
            "Collecting librosa>=0.7.0\n",
            "\u001b[?25l  Downloading https://files.pythonhosted.org/packages/77/b5/1817862d64a7c231afd15419d8418ae1f000742cac275e85c74b219cbccb/librosa-0.7.2.tar.gz (1.6MB)\n",
            "\u001b[K     |████████████████████████████████| 1.6MB 8.5MB/s \n",
            "\u001b[?25hRequirement already satisfied: numba==0.48.0 in /usr/local/lib/python3.6/dist-packages (from pyannote.audio==0+unknown) (0.48.0)\n",
            "Requirement already satisfied: pandas>=0.18.0 in /usr/local/lib/python3.6/dist-packages (from pyannote.audio==0+unknown) (1.0.5)\n",
            "Collecting pyannote.core>=4.1\n",
            "\u001b[?25l  Downloading https://files.pythonhosted.org/packages/ba/09/64e64cedccf764be513405d1ff3d3d2bbcbea60d18fb6a6d9e815aedcd79/pyannote.core-4.1-py3-none-any.whl (56kB)\n",
            "\u001b[K     |████████████████████████████████| 61kB 6.5MB/s \n",
            "\u001b[?25hCollecting pyannote.database>=4.0\n",
            "\u001b[?25l  Downloading https://files.pythonhosted.org/packages/ab/a6/0d87e54ad876ee786d35fd174fb126703b54fdc317f3f11afa871ad4b00d/pyannote.database-4.0.1-py3-none-any.whl (41kB)\n",
            "\u001b[K     |████████████████████████████████| 51kB 6.0MB/s \n",
            "\u001b[?25hCollecting pyannote.metrics>=2.3\n",
            "\u001b[?25l  Downloading https://files.pythonhosted.org/packages/76/44/39e79594474eb99a23b26cb0104d78f6f20e4f8de3a26d67f24d2ea9ef28/pyannote.metrics-3.0.1-py3-none-any.whl (49kB)\n",
            "\u001b[K     |████████████████████████████████| 51kB 7.3MB/s \n",
            "\u001b[?25hCollecting pyannote.pipeline>=1.5\n",
            "  Downloading https://files.pythonhosted.org/packages/f2/f7/781bf83a76d5e68ecfdebb9bfbfd20063dbdf8e578a15885a0156cfb228f/pyannote.pipeline-1.5.2-py3-none-any.whl\n",
            "Requirement already satisfied: pyYAML>=3.12 in /usr/local/lib/python3.6/dist-packages (from pyannote.audio==0+unknown) (3.13)\n",
            "Requirement already satisfied: scikit-learn>=0.20.2 in /usr/local/lib/python3.6/dist-packages (from pyannote.audio==0+unknown) (0.22.2.post1)\n",
            "Collecting sortedcollections>=1.0.1\n",
            "  Downloading https://files.pythonhosted.org/packages/ea/f1/831fa9763afc85d3065557762824490d6e4d1afe1a56e0f053a568ae0cb5/sortedcollections-1.2.1-py2.py3-none-any.whl\n",
            "Requirement already satisfied: sortedcontainers>=2.0.4 in /usr/local/lib/python3.6/dist-packages (from pyannote.audio==0+unknown) (2.2.2)\n",
            "Collecting soundfile>=0.10.2\n",
            "  Downloading https://files.pythonhosted.org/packages/eb/f2/3cbbbf3b96fb9fa91582c438b574cff3f45b29c772f94c400e2c99ef5db9/SoundFile-0.10.3.post1-py2.py3-none-any.whl\n",
            "Requirement already satisfied: tqdm>=4.29.1 in /usr/local/lib/python3.6/dist-packages (from pyannote.audio==0+unknown) (4.41.1)\n",
            "Requirement already satisfied: tensorboard>=2.0.0 in /usr/local/lib/python3.6/dist-packages (from pyannote.audio==0+unknown) (2.2.2)\n",
            "Collecting pescador>=2.1.0\n",
            "  Downloading https://files.pythonhosted.org/packages/75/64/df7b03e8bf0edbf2a07e4666f0b5879919009a73f54f0a828adfe122c0a8/pescador-2.1.0.tar.gz\n",
            "Requirement already satisfied: Pillow>=6.2.1 in /usr/local/lib/python3.6/dist-packages (from pyannote.audio==0+unknown) (7.0.0)\n",
            "Requirement already satisfied: typing_extensions>=3.7.4 in /usr/local/lib/python3.6/dist-packages (from pyannote.audio==0+unknown) (3.7.4.2)\n",
            "Requirement already satisfied: audioread>=2.0.0 in /usr/local/lib/python3.6/dist-packages (from librosa>=0.7.0->pyannote.audio==0+unknown) (2.1.8)\n",
            "Requirement already satisfied: numpy>=1.15.0 in /usr/local/lib/python3.6/dist-packages (from librosa>=0.7.0->pyannote.audio==0+unknown) (1.18.5)\n",
            "Requirement already satisfied: scipy>=1.0.0 in /usr/local/lib/python3.6/dist-packages (from librosa>=0.7.0->pyannote.audio==0+unknown) (1.4.1)\n",
            "Requirement already satisfied: joblib>=0.12 in /usr/local/lib/python3.6/dist-packages (from librosa>=0.7.0->pyannote.audio==0+unknown) (0.16.0)\n",
            "Requirement already satisfied: decorator>=3.0.0 in /usr/local/lib/python3.6/dist-packages (from librosa>=0.7.0->pyannote.audio==0+unknown) (4.4.2)\n",
            "Requirement already satisfied: six>=1.3 in /usr/local/lib/python3.6/dist-packages (from librosa>=0.7.0->pyannote.audio==0+unknown) (1.12.0)\n",
            "Requirement already satisfied: resampy>=0.2.2 in /usr/local/lib/python3.6/dist-packages (from librosa>=0.7.0->pyannote.audio==0+unknown) (0.2.2)\n",
            "Requirement already satisfied: setuptools in /usr/local/lib/python3.6/dist-packages (from numba==0.48.0->pyannote.audio==0+unknown) (49.1.0)\n",
            "Requirement already satisfied: llvmlite<0.32.0,>=0.31.0dev0 in /usr/local/lib/python3.6/dist-packages (from numba==0.48.0->pyannote.audio==0+unknown) (0.31.0)\n",
            "Requirement already satisfied: python-dateutil>=2.6.1 in /usr/local/lib/python3.6/dist-packages (from pandas>=0.18.0->pyannote.audio==0+unknown) (2.8.1)\n",
            "Requirement already satisfied: pytz>=2017.2 in /usr/local/lib/python3.6/dist-packages (from pandas>=0.18.0->pyannote.audio==0+unknown) (2018.9)\n",
            "Requirement already satisfied: dataclasses>=0.7; python_version < \"3.7\" in /usr/local/lib/python3.6/dist-packages (from pyannote.core>=4.1->pyannote.audio==0+unknown) (0.7)\n",
            "Requirement already satisfied: matplotlib>=2.0.0 in /usr/local/lib/python3.6/dist-packages (from pyannote.core>=4.1->pyannote.audio==0+unknown) (3.2.2)\n",
            "Collecting simplejson>=3.8.1\n",
            "\u001b[?25l  Downloading https://files.pythonhosted.org/packages/73/96/1e6b19045375890068d7342cbe280dd64ae73fd90b9735b5efb8d1e044a1/simplejson-3.17.2-cp36-cp36m-manylinux2010_x86_64.whl (127kB)\n",
            "\u001b[K     |████████████████████████████████| 133kB 42.3MB/s \n",
            "\u001b[?25hCollecting typer[all]>=0.2.1\n",
            "  Downloading https://files.pythonhosted.org/packages/20/82/d8e6c9100f31b7cffb7274603d41e77af1c70ea2d9f03671313ec7868454/typer-0.3.0-py3-none-any.whl\n",
            "Requirement already satisfied: tabulate>=0.7.7 in /usr/local/lib/python3.6/dist-packages (from pyannote.metrics>=2.3->pyannote.audio==0+unknown) (0.8.7)\n",
            "Requirement already satisfied: docopt>=0.6.2 in /usr/local/lib/python3.6/dist-packages (from pyannote.metrics>=2.3->pyannote.audio==0+unknown) (0.6.2)\n",
            "Requirement already satisfied: sympy>=1.1 in /usr/local/lib/python3.6/dist-packages (from pyannote.metrics>=2.3->pyannote.audio==0+unknown) (1.1.1)\n",
            "Requirement already satisfied: filelock>=3.0.10 in /usr/local/lib/python3.6/dist-packages (from pyannote.pipeline>=1.5->pyannote.audio==0+unknown) (3.0.12)\n",
            "Collecting optuna>=1.4\n",
            "\u001b[?25l  Downloading https://files.pythonhosted.org/packages/33/32/266d4afd269e3ecd7fcc595937c1733f65eae6c09c3caea74c0de0b88d78/optuna-1.5.0.tar.gz (200kB)\n",
            "\u001b[K     |████████████████████████████████| 204kB 42.5MB/s \n",
            "\u001b[?25hRequirement already satisfied: cffi>=1.0 in /usr/local/lib/python3.6/dist-packages (from soundfile>=0.10.2->pyannote.audio==0+unknown) (1.14.0)\n",
            "Requirement already satisfied: google-auth<2,>=1.6.3 in /usr/local/lib/python3.6/dist-packages (from tensorboard>=2.0.0->pyannote.audio==0+unknown) (1.17.2)\n",
            "Requirement already satisfied: google-auth-oauthlib<0.5,>=0.4.1 in /usr/local/lib/python3.6/dist-packages (from tensorboard>=2.0.0->pyannote.audio==0+unknown) (0.4.1)\n",
            "Requirement already satisfied: absl-py>=0.4 in /usr/local/lib/python3.6/dist-packages (from tensorboard>=2.0.0->pyannote.audio==0+unknown) (0.9.0)\n",
            "Requirement already satisfied: wheel>=0.26; python_version >= \"3\" in /usr/local/lib/python3.6/dist-packages (from tensorboard>=2.0.0->pyannote.audio==0+unknown) (0.34.2)\n",
            "Requirement already satisfied: markdown>=2.6.8 in /usr/local/lib/python3.6/dist-packages (from tensorboard>=2.0.0->pyannote.audio==0+unknown) (3.2.2)\n",
            "Requirement already satisfied: requests<3,>=2.21.0 in /usr/local/lib/python3.6/dist-packages (from tensorboard>=2.0.0->pyannote.audio==0+unknown) (2.23.0)\n",
            "Requirement already satisfied: tensorboard-plugin-wit>=1.6.0 in /usr/local/lib/python3.6/dist-packages (from tensorboard>=2.0.0->pyannote.audio==0+unknown) (1.7.0)\n",
            "Requirement already satisfied: werkzeug>=0.11.15 in /usr/local/lib/python3.6/dist-packages (from tensorboard>=2.0.0->pyannote.audio==0+unknown) (1.0.1)\n",
            "Requirement already satisfied: protobuf>=3.6.0 in /usr/local/lib/python3.6/dist-packages (from tensorboard>=2.0.0->pyannote.audio==0+unknown) (3.12.2)\n",
            "Requirement already satisfied: grpcio>=1.24.3 in /usr/local/lib/python3.6/dist-packages (from tensorboard>=2.0.0->pyannote.audio==0+unknown) (1.30.0)\n",
            "Requirement already satisfied: pyzmq>=15.0 in /usr/local/lib/python3.6/dist-packages (from pescador>=2.1.0->pyannote.audio==0+unknown) (19.0.1)\n",
            "Requirement already satisfied: kiwisolver>=1.0.1 in /usr/local/lib/python3.6/dist-packages (from matplotlib>=2.0.0->pyannote.core>=4.1->pyannote.audio==0+unknown) (1.2.0)\n",
            "Requirement already satisfied: pyparsing!=2.0.4,!=2.1.2,!=2.1.6,>=2.0.1 in /usr/local/lib/python3.6/dist-packages (from matplotlib>=2.0.0->pyannote.core>=4.1->pyannote.audio==0+unknown) (2.4.7)\n",
            "Requirement already satisfied: cycler>=0.10 in /usr/local/lib/python3.6/dist-packages (from matplotlib>=2.0.0->pyannote.core>=4.1->pyannote.audio==0+unknown) (0.10.0)\n",
            "Requirement already satisfied: click<7.2.0,>=7.1.1 in /usr/local/lib/python3.6/dist-packages (from typer[all]>=0.2.1->pyannote.database>=4.0->pyannote.audio==0+unknown) (7.1.2)\n",
            "Collecting shellingham; extra == \"all\"\n",
            "  Downloading https://files.pythonhosted.org/packages/9f/6b/160e80c5386f7820f0a9919cc9a14e5aef2953dc477f0d5ddf3f4f2b62d0/shellingham-1.3.2-py2.py3-none-any.whl\n",
            "Collecting colorama; extra == \"all\"\n",
            "  Downloading https://files.pythonhosted.org/packages/c9/dc/45cdef1b4d119eb96316b3117e6d5708a08029992b2fee2c143c7a0a5cc5/colorama-0.4.3-py2.py3-none-any.whl\n",
            "Requirement already satisfied: mpmath>=0.19 in /usr/local/lib/python3.6/dist-packages (from sympy>=1.1->pyannote.metrics>=2.3->pyannote.audio==0+unknown) (1.1.0)\n",
            "Collecting alembic\n",
            "\u001b[?25l  Downloading https://files.pythonhosted.org/packages/60/1e/cabc75a189de0fbb2841d0975243e59bde8b7822bacbb95008ac6fe9ad47/alembic-1.4.2.tar.gz (1.1MB)\n",
            "\u001b[K     |████████████████████████████████| 1.1MB 50.7MB/s \n",
            "\u001b[?25h  Installing build dependencies ... \u001b[?25l\u001b[?25hdone\n",
            "  Getting requirements to build wheel ... \u001b[?25l\u001b[?25hdone\n",
            "    Preparing wheel metadata ... \u001b[?25l\u001b[?25hdone\n",
            "Collecting cliff\n",
            "\u001b[?25l  Downloading https://files.pythonhosted.org/packages/52/59/4db149d8962dc29a37c8bc08cd79185935527af9a27259a2d80cac707212/cliff-3.3.0-py3-none-any.whl (81kB)\n",
            "\u001b[K     |████████████████████████████████| 81kB 11.1MB/s \n",
            "\u001b[?25hCollecting cmaes>=0.5.0\n",
            "  Downloading https://files.pythonhosted.org/packages/0e/7f/ebba8a7950487c760c245168f7ba318b35bf0cac9c0eba30b9fb50150a20/cmaes-0.5.1-py3-none-any.whl\n",
            "Collecting colorlog\n",
            "  Downloading https://files.pythonhosted.org/packages/00/0d/22c73c2eccb21dd3498df7d22c0b1d4a30f5a5fb3feb64e1ce06bc247747/colorlog-4.1.0-py2.py3-none-any.whl\n",
            "Requirement already satisfied: sqlalchemy>=1.1.0 in /usr/local/lib/python3.6/dist-packages (from optuna>=1.4->pyannote.pipeline>=1.5->pyannote.audio==0+unknown) (1.3.18)\n",
            "Requirement already satisfied: pycparser in /usr/local/lib/python3.6/dist-packages (from cffi>=1.0->soundfile>=0.10.2->pyannote.audio==0+unknown) (2.20)\n",
            "Requirement already satisfied: rsa<5,>=3.1.4; python_version >= \"3\" in /usr/local/lib/python3.6/dist-packages (from google-auth<2,>=1.6.3->tensorboard>=2.0.0->pyannote.audio==0+unknown) (4.6)\n",
            "Requirement already satisfied: pyasn1-modules>=0.2.1 in /usr/local/lib/python3.6/dist-packages (from google-auth<2,>=1.6.3->tensorboard>=2.0.0->pyannote.audio==0+unknown) (0.2.8)\n",
            "Requirement already satisfied: requests-oauthlib>=0.7.0 in /usr/local/lib/python3.6/dist-packages (from google-auth-oauthlib<0.5,>=0.4.1->tensorboard>=2.0.0->pyannote.audio==0+unknown) (1.3.0)\n",
            "Requirement already satisfied: importlib-metadata; python_version < \"3.8\" in /usr/local/lib/python3.6/dist-packages (from markdown>=2.6.8->tensorboard>=2.0.0->pyannote.audio==0+unknown) (1.7.0)\n",
            "Requirement already satisfied: chardet<4,>=3.0.2 in /usr/local/lib/python3.6/dist-packages (from requests<3,>=2.21.0->tensorboard>=2.0.0->pyannote.audio==0+unknown) (3.0.4)\n",
            "Requirement already satisfied: certifi>=2017.4.17 in /usr/local/lib/python3.6/dist-packages (from requests<3,>=2.21.0->tensorboard>=2.0.0->pyannote.audio==0+unknown) (2020.6.20)\n",
            "Requirement already satisfied: idna<3,>=2.5 in /usr/local/lib/python3.6/dist-packages (from requests<3,>=2.21.0->tensorboard>=2.0.0->pyannote.audio==0+unknown) (2.10)\n",
            "Requirement already satisfied: urllib3!=1.25.0,!=1.25.1,<1.26,>=1.21.1 in /usr/local/lib/python3.6/dist-packages (from requests<3,>=2.21.0->tensorboard>=2.0.0->pyannote.audio==0+unknown) (1.24.3)\n",
            "Collecting Mako\n",
            "\u001b[?25l  Downloading https://files.pythonhosted.org/packages/a6/37/0e706200d22172eb8fa17d68a7ae22dec7631a0a92266634fb518a88a5b2/Mako-1.1.3-py2.py3-none-any.whl (75kB)\n",
            "\u001b[K     |████████████████████████████████| 81kB 11.4MB/s \n",
            "\u001b[?25hCollecting python-editor>=0.3\n",
            "  Downloading https://files.pythonhosted.org/packages/c6/d3/201fc3abe391bbae6606e6f1d598c15d367033332bd54352b12f35513717/python_editor-1.0.4-py3-none-any.whl\n",
            "Requirement already satisfied: PrettyTable<0.8,>=0.7.2 in /usr/local/lib/python3.6/dist-packages (from cliff->optuna>=1.4->pyannote.pipeline>=1.5->pyannote.audio==0+unknown) (0.7.2)\n",
            "Collecting cmd2!=0.8.3,>=0.8.0\n",
            "\u001b[?25l  Downloading https://files.pythonhosted.org/packages/db/17/641b563f5839c61a4767a070644ff2be3f70fe0d8ddd879a52dbd4976980/cmd2-1.2.1-py3-none-any.whl (121kB)\n",
            "\u001b[K     |████████████████████████████████| 122kB 57.5MB/s \n",
            "\u001b[?25hCollecting stevedore>=1.20.0\n",
            "\u001b[?25l  Downloading https://files.pythonhosted.org/packages/63/ce/7e20de854cdf19b9ac0eb650648a12a7100c0bb39f32241b4b3d26ad40f2/stevedore-3.1.0-py3-none-any.whl (41kB)\n",
            "\u001b[K     |████████████████████████████████| 51kB 8.8MB/s \n",
            "\u001b[?25hCollecting pbr!=2.1.0,>=2.0.0\n",
            "\u001b[?25l  Downloading https://files.pythonhosted.org/packages/96/ba/aa953a11ec014b23df057ecdbc922fdb40ca8463466b1193f3367d2711a6/pbr-5.4.5-py2.py3-none-any.whl (110kB)\n",
            "\u001b[K     |████████████████████████████████| 112kB 58.1MB/s \n",
            "\u001b[?25hRequirement already satisfied: pyasn1>=0.1.3 in /usr/local/lib/python3.6/dist-packages (from rsa<5,>=3.1.4; python_version >= \"3\"->google-auth<2,>=1.6.3->tensorboard>=2.0.0->pyannote.audio==0+unknown) (0.4.8)\n",
            "Requirement already satisfied: oauthlib>=3.0.0 in /usr/local/lib/python3.6/dist-packages (from requests-oauthlib>=0.7.0->google-auth-oauthlib<0.5,>=0.4.1->tensorboard>=2.0.0->pyannote.audio==0+unknown) (3.1.0)\n",
            "Requirement already satisfied: zipp>=0.5 in /usr/local/lib/python3.6/dist-packages (from importlib-metadata; python_version < \"3.8\"->markdown>=2.6.8->tensorboard>=2.0.0->pyannote.audio==0+unknown) (3.1.0)\n",
            "Requirement already satisfied: MarkupSafe>=0.9.2 in /usr/local/lib/python3.6/dist-packages (from Mako->alembic->optuna>=1.4->pyannote.pipeline>=1.5->pyannote.audio==0+unknown) (1.1.1)\n",
            "Requirement already satisfied: wcwidth>=0.1.7 in /usr/local/lib/python3.6/dist-packages (from cmd2!=0.8.3,>=0.8.0->cliff->optuna>=1.4->pyannote.pipeline>=1.5->pyannote.audio==0+unknown) (0.2.5)\n",
            "Requirement already satisfied: attrs>=16.3.0 in /usr/local/lib/python3.6/dist-packages (from cmd2!=0.8.3,>=0.8.0->cliff->optuna>=1.4->pyannote.pipeline>=1.5->pyannote.audio==0+unknown) (19.3.0)\n",
            "Collecting pyperclip>=1.6\n",
            "  Downloading https://files.pythonhosted.org/packages/f6/5b/55866e1cde0f86f5eec59dab5de8a66628cb0d53da74b8dbc15ad8dabda3/pyperclip-1.8.0.tar.gz\n",
            "Building wheels for collected packages: alembic\n",
            "  Building wheel for alembic (PEP 517) ... \u001b[?25l\u001b[?25hdone\n",
            "  Created wheel for alembic: filename=alembic-1.4.2-cp36-none-any.whl size=159543 sha256=396ec952ab7e2fbf887b57ddb621ab167a4beac27daf2add1af5be2fced7cafb\n",
            "  Stored in directory: /root/.cache/pip/wheels/1f/04/83/76023f7a4c14688c0b5c2682a96392cfdd3ee4449eaaa287ef\n",
            "Successfully built alembic\n",
            "Building wheels for collected packages: pyannote.audio, librosa, pescador, optuna, pyperclip\n",
            "  Building wheel for pyannote.audio (setup.py) ... \u001b[?25l\u001b[?25hdone\n",
            "  Created wheel for pyannote.audio: filename=pyannote.audio-0+unknown-cp36-none-any.whl size=230820 sha256=9eb1672cd3dc09f590f9e5642d8bb2db33c0825ce963038037628866bacb40fd\n",
            "  Stored in directory: /tmp/pip-ephem-wheel-cache-ppzbq724/wheels/0f/ab/31/b004c521ad0a3187d7789e5406af93a5105e32b9c4ffb2811b\n",
            "  Building wheel for librosa (setup.py) ... \u001b[?25l\u001b[?25hdone\n",
            "  Created wheel for librosa: filename=librosa-0.7.2-cp36-none-any.whl size=1612885 sha256=1e3f426c8778fde7636c9ef722591f99567f44de48e3670f3895ec5ea882c318\n",
            "  Stored in directory: /root/.cache/pip/wheels/4c/6e/d7/bb93911540d2d1e44d690a1561871e5b6af82b69e80938abef\n",
            "  Building wheel for pescador (setup.py) ... \u001b[?25l\u001b[?25hdone\n",
            "  Created wheel for pescador: filename=pescador-2.1.0-cp36-none-any.whl size=21077 sha256=c86c9938a8929979afa4db180724c996c91513e483cf9058b686bb586f5da6cb\n",
            "  Stored in directory: /root/.cache/pip/wheels/e7/e7/2d/de501314d1f03d8607aed0f6b48e50d8699f681745003aaa5b\n",
            "  Building wheel for optuna (setup.py) ... \u001b[?25l\u001b[?25hdone\n",
            "  Created wheel for optuna: filename=optuna-1.5.0-cp36-none-any.whl size=276145 sha256=f376424c6f77b4825aef671d9393fed6ec34934b1447ed72399a0c1b29fc6bb2\n",
            "  Stored in directory: /root/.cache/pip/wheels/38/21/78/4f5529e0c757ababc4217eb9adf1886d21eb22bb1ab98c33c5\n",
            "  Building wheel for pyperclip (setup.py) ... \u001b[?25l\u001b[?25hdone\n",
            "  Created wheel for pyperclip: filename=pyperclip-1.8.0-cp36-none-any.whl size=8693 sha256=03fe138e0403cc37d185d4babf630244edbb414fb299b1ea7aca569d2393e628\n",
            "  Stored in directory: /root/.cache/pip/wheels/b2/ac/0a/b784f0afe26eaf52e88a7e15c7369090deea0354fa1c6fc689\n",
            "Successfully built pyannote.audio librosa pescador optuna pyperclip\n",
            "Installing collected packages: soundfile, librosa, simplejson, pyannote.core, shellingham, colorama, typer, pyannote.database, pyannote.metrics, Mako, python-editor, alembic, pyperclip, cmd2, pbr, stevedore, cliff, cmaes, colorlog, optuna, pyannote.pipeline, sortedcollections, pescador, pyannote.audio\n",
            "  Found existing installation: librosa 0.6.3\n",
            "    Uninstalling librosa-0.6.3:\n",
            "      Successfully uninstalled librosa-0.6.3\n",
            "Successfully installed Mako-1.1.3 alembic-1.4.2 cliff-3.3.0 cmaes-0.5.1 cmd2-1.2.1 colorama-0.4.3 colorlog-4.1.0 librosa-0.7.2 optuna-1.5.0 pbr-5.4.5 pescador-2.1.0 pyannote.audio-0+unknown pyannote.core-4.1 pyannote.database-4.0.1 pyannote.metrics-3.0.1 pyannote.pipeline-1.5.2 pyperclip-1.8.0 python-editor-1.0.4 shellingham-1.3.2 simplejson-3.17.2 sortedcollections-1.2.1 soundfile-0.10.3.post1 stevedore-3.1.0 typer-0.3.0\n"
          ],
          "name": "stdout"
        }
      ]
    },
    {
      "cell_type": "code",
      "metadata": {
        "id": "62flXtNIsA9q",
        "colab_type": "code",
        "colab": {}
      },
      "source": [
        "from pyannote.audio.features import RawAudio\n",
        "from IPython.display import Audio\n",
        "import json\n",
        "project=\"./YoutubeTranscriptGetter\"\n",
        "video=\"joe_rogan_dwayne_the_rock_johnson_for_president_\"\n",
        "DEMO_FILE = {'audio': project+\"/audio/\"+video+\".wav\"}\n",
        "with open(project+\"/Json_scripts/\"+video+\".json\") as f:\n",
        "  script = json.load(f)"
      ],
      "execution_count": 7,
      "outputs": []
    },
    {
      "cell_type": "code",
      "metadata": {
        "id": "p3nJcbqaL2nO",
        "colab_type": "code",
        "colab": {
          "base_uri": "https://localhost:8080/",
          "height": 1000
        },
        "outputId": "54051f98-bcdd-4558-8399-d41c578f238c"
      },
      "source": [
        "script"
      ],
      "execution_count": 8,
      "outputs": [
        {
          "output_type": "execute_result",
          "data": {
            "text/plain": [
              "[{'duration': 4.859,\n",
              "  'start': 0.75,\n",
              "  'text': 'the joggin experienced in the past when'},\n",
              " {'duration': 4.74,\n",
              "  'start': 3.449,\n",
              "  'text': \"there's been disputes or things have\"},\n",
              " {'duration': 7.351,\n",
              "  'start': 5.609,\n",
              "  'text': \"been wrong it seems like there's a clear\"},\n",
              " {'duration': 6.45,\n",
              "  'start': 8.189,\n",
              "  'text': 'path to to sort of work things out it'},\n",
              " {'duration': 3.899, 'start': 12.96, 'text': \"doesn't seem like a clear path\"},\n",
              " {'duration': 3.751,\n",
              "  'start': 14.639,\n",
              "  'text': 'it seems like every day kind of gets a'},\n",
              " {'duration': 3.481,\n",
              "  'start': 16.859,\n",
              "  'text': 'little worse like people get ramped up'},\n",
              " {'duration': 4.799,\n",
              "  'start': 18.39,\n",
              "  'text': \"even more and then there's this event\"},\n",
              " {'duration': 6.179,\n",
              "  'start': 20.34,\n",
              "  'text': \"that's looming on the horizon this\"},\n",
              " {'duration': 5.43,\n",
              "  'start': 23.189,\n",
              "  'text': 'November event this election event I no'},\n",
              " {'duration': 4.651,\n",
              "  'start': 26.519,\n",
              "  'text': \"matter what whether it's left or right\"},\n",
              " {'duration': 7.291,\n",
              "  'start': 28.619,\n",
              "  'text': 'whether Biden wins or Trump wins is'},\n",
              " {'duration': 7.83,\n",
              "  'start': 31.17,\n",
              "  'text': 'gonna be madness and chaos it seems hard'},\n",
              " {'duration': 6.51,\n",
              "  'start': 35.91,\n",
              "  'text': 'for me to understand that Biden could it'},\n",
              " {'duration': 5.43,\n",
              "  'start': 39.0,\n",
              "  'text': 'could maintain his health you know'},\n",
              " {'duration': 4.229,\n",
              "  'start': 42.42,\n",
              "  'text': 'through a presidency that seems very'},\n",
              " {'duration': 6.0,\n",
              "  'start': 44.43,\n",
              "  'text': 'challenging to me yeah I mean it seems'},\n",
              " {'duration': 6.961,\n",
              "  'start': 46.649,\n",
              "  'text': \"like he's been going down you know with\"},\n",
              " {'duration': 5.01,\n",
              "  'start': 50.43,\n",
              "  'text': 'his coherence level you can kind of see'},\n",
              " {'duration': 4.44,\n",
              "  'start': 53.61,\n",
              "  'text': \"it over even months right yeah he's on a\"},\n",
              " {'duration': 5.689,\n",
              "  'start': 55.44,\n",
              "  'text': 'really really rapid downward spiral'},\n",
              " {'duration': 5.84,\n",
              "  'start': 58.05,\n",
              "  'text': 'well it seems stressful for anybody'},\n",
              " {'duration': 6.251,\n",
              "  'start': 61.129,\n",
              "  'text': 'except Trump for whatever fucking reason'},\n",
              " {'duration': 6.31,\n",
              "  'start': 63.89,\n",
              "  'text': 'that guy eats it up but for most people'},\n",
              " {'duration': 5.97,\n",
              "  'start': 67.38,\n",
              "  'text': 'running for president alone just the'},\n",
              " {'duration': 5.309,\n",
              "  'start': 70.2,\n",
              "  'text': \"grueling just the schedule that's\"},\n",
              " {'duration': 4.769,\n",
              "  'start': 73.35,\n",
              "  'text': 'involved in traveling and doing all'},\n",
              " {'duration': 3.841,\n",
              "  'start': 75.509,\n",
              "  'text': 'these speeches and it just breaks him'},\n",
              " {'duration': 3.57,\n",
              "  'start': 78.119,\n",
              "  'text': 'down I mean one of the reasons why'},\n",
              " {'duration': 4.32,\n",
              "  'start': 79.35,\n",
              "  'text': \"Hillary lost was she just wasn't willing\"},\n",
              " {'duration': 3.391,\n",
              "  'start': 81.689,\n",
              "  'text': 'to travel as much there was all these'},\n",
              " {'duration': 3.51,\n",
              "  'start': 83.67,\n",
              "  'text': 'different events that she was supposed'},\n",
              " {'duration': 3.3,\n",
              "  'start': 85.08,\n",
              "  'text': \"to go to she just couldn't go she\"},\n",
              " {'duration': 2.67,\n",
              "  'start': 87.18,\n",
              "  'text': \"couldn't take it anymore she thought she\"},\n",
              " {'duration': 4.65,\n",
              "  'start': 88.38,\n",
              "  'text': \"was gonna win anyway so she'd just say\"},\n",
              " {'duration': 6.479,\n",
              "  'start': 89.85,\n",
              "  'text': 'it Laidback yeah yeah it definitely is a'},\n",
              " {'duration': 4.53,\n",
              "  'start': 93.03,\n",
              "  'text': \"brutal thing but it's really also just\"},\n",
              " {'duration': 2.941,\n",
              "  'start': 96.329,\n",
              "  'text': 'completely insane that the two'},\n",
              " {'duration': 4.019,\n",
              "  'start': 97.56,\n",
              "  'text': 'candidates are these two people well'},\n",
              " {'duration': 4.11,\n",
              "  'start': 99.27,\n",
              "  'text': 'yeah first of all that the best that'},\n",
              " {'duration': 3.72,\n",
              "  'start': 101.579,\n",
              "  'text': 'Democrats could do I mean they had all'},\n",
              " {'duration': 5.19,\n",
              "  'start': 103.38,\n",
              "  'text': 'these other people that were well-spoken'},\n",
              " {'duration': 6.11,\n",
              "  'start': 105.299,\n",
              "  'text': 'yeah he seemed like young and healthy'},\n",
              " {'duration': 5.61,\n",
              "  'start': 108.57,\n",
              "  'text': \"and there was you know there's so many\"},\n",
              " {'duration': 4.78,\n",
              "  'start': 111.409,\n",
              "  'text': 'that is hard to comprehend yeah right'},\n",
              " {'duration': 3.99,\n",
              "  'start': 114.18,\n",
              "  'text': \"it's really hard to comprehend that yeah\"},\n",
              " {'duration': 3.841,\n",
              "  'start': 116.189,\n",
              "  'text': \"that you're looking at these this group\"},\n",
              " {'duration': 3.629,\n",
              "  'start': 118.17,\n",
              "  'text': 'of whatever we have 350 million people'},\n",
              " {'duration': 4.74,\n",
              "  'start': 120.03,\n",
              "  'text': '320 million people in America and this'},\n",
              " {'duration': 5.191,\n",
              "  'start': 121.799,\n",
              "  'text': 'is this is who you end up with fucking'},\n",
              " {'duration': 3.599,\n",
              "  'start': 124.77,\n",
              "  'text': 'anybody but Biden anybody I mean we'},\n",
              " {'duration': 2.909,\n",
              "  'start': 126.99,\n",
              "  'text': \"don't even know who's vice president is\"},\n",
              " {'duration': 3.031,\n",
              "  'start': 128.369,\n",
              "  'text': \"right that's gonna make a big deal\"},\n",
              " {'duration': 3.511,\n",
              "  'start': 129.899,\n",
              "  'text': \"that's gonna be a big different cuz the\"},\n",
              " {'duration': 3.93,\n",
              "  'start': 131.4,\n",
              "  'text': 'vice president is compelling and'},\n",
              " {'duration': 4.8,\n",
              "  'start': 133.41,\n",
              "  'text': 'thing he says gonna pick a woman whether'},\n",
              " {'duration': 5.64,\n",
              "  'start': 135.33,\n",
              "  'text': 'he picks probably it was gonna pick Clos'},\n",
              " {'duration': 6.27,\n",
              "  'start': 138.21,\n",
              "  'text': 'Bashar close showers responsible for a'},\n",
              " {'duration': 5.67,\n",
              "  'start': 140.97,\n",
              "  'text': 'lot of those guys skating in Minneapolis'},\n",
              " {'duration': 4.92, 'start': 144.48, 'text': \"so well that's not good\"},\n",
              " {'duration': 4.98,\n",
              "  'start': 146.64,\n",
              "  'text': \"and then if he's gonna go with Kamala\"},\n",
              " {'duration': 4.71,\n",
              "  'start': 149.4,\n",
              "  'text': 'Harris Tulsi Gabbard kind of took the'},\n",
              " {'duration': 4.02,\n",
              "  'start': 151.62,\n",
              "  'text': \"legs off of that lady yeah so then who's\"},\n",
              " {'duration': 4.35, 'start': 154.11, 'text': 'left mayor Pete'},\n",
              " {'duration': 4.44,\n",
              "  'start': 155.64,\n",
              "  'text': 'he seems like a guy was just you know'},\n",
              " {'duration': 3.96,\n",
              "  'start': 158.46,\n",
              "  'text': \"like he's got a playbook he's kind of\"},\n",
              " {'duration': 5.1,\n",
              "  'start': 160.08,\n",
              "  'text': 'like following this Obama playbook and I'},\n",
              " {'duration': 5.52,\n",
              "  'start': 162.42,\n",
              "  'text': \"just don't feel it from him at all the\"},\n",
              " {'duration': 4.08,\n",
              "  'start': 165.18,\n",
              "  'text': \"least he's gay we'd have a gay guy in\"},\n",
              " {'duration': 3.51,\n",
              "  'start': 167.94,\n",
              "  'text': \"office I'd have lighting people up a\"},\n",
              " {'duration': 4.14,\n",
              "  'start': 169.26,\n",
              "  'text': 'little bit I believe that we had a'},\n",
              " {'duration': 3.96,\n",
              "  'start': 171.45,\n",
              "  'text': \"powerful gay leader I think it'd be\"},\n",
              " {'duration': 4.83,\n",
              "  'start': 173.4,\n",
              "  'text': 'great for the country like I think you'},\n",
              " {'duration': 4.62,\n",
              "  'start': 175.41,\n",
              "  'text': 'know like the the one of the things'},\n",
              " {'duration': 3.36,\n",
              "  'start': 178.23,\n",
              "  'text': 'about Obama being office beside the fact'},\n",
              " {'duration': 3.27,\n",
              "  'start': 180.03,\n",
              "  'text': 'it being office beside the fact that'},\n",
              " {'duration': 4.38,\n",
              "  'start': 181.59,\n",
              "  'text': \"he's very articulate and educated and\"},\n",
              " {'duration': 4.47,\n",
              "  'start': 183.3,\n",
              "  'text': \"it's a well-spoken statesman said it's\"},\n",
              " {'duration': 4.08,\n",
              "  'start': 185.97,\n",
              "  'text': \"like hey look we're making progress\"},\n",
              " {'duration': 4.74,\n",
              "  'start': 187.77,\n",
              "  'text': 'we have a black president like I felt'},\n",
              " {'duration': 4.44,\n",
              "  'start': 190.05,\n",
              "  'text': 'that I felt like a wave across the'},\n",
              " {'duration': 4.47,\n",
              "  'start': 192.51,\n",
              "  'text': 'country people like you you can be'},\n",
              " {'duration': 5.19,\n",
              "  'start': 194.49,\n",
              "  'text': 'present in this country like even if'},\n",
              " {'duration': 6.03,\n",
              "  'start': 196.98,\n",
              "  'text': \"you're born out of a single family\"},\n",
              " {'duration': 6.27,\n",
              "  'start': 199.68,\n",
              "  'text': \"single mother family and you're a black\"},\n",
              " {'duration': 5.31,\n",
              "  'start': 203.01,\n",
              "  'text': 'guy you can you as long as you got the'},\n",
              " {'duration': 4.23,\n",
              "  'start': 205.95,\n",
              "  'text': 'goods you can make it like this is great'},\n",
              " {'duration': 4.47,\n",
              "  'start': 208.32,\n",
              "  'text': 'this means we really are living in a'},\n",
              " {'duration': 3.72,\n",
              "  'start': 210.18,\n",
              "  'text': 'meritocracy and it would be great if'},\n",
              " {'duration': 3.18,\n",
              "  'start': 212.79,\n",
              "  'text': 'there was a gay guy that had the same'},\n",
              " {'duration': 4.2,\n",
              "  'start': 213.9,\n",
              "  'text': 'experience like like all the people that'},\n",
              " {'duration': 6.03,\n",
              "  'start': 215.97,\n",
              "  'text': 'are homophobes like yeah but that'},\n",
              " {'duration': 5.88,\n",
              "  'start': 218.1,\n",
              "  'text': \"fucking mayor Pete he's got me yeah the\"},\n",
              " {'duration': 4.17,\n",
              "  'start': 222.0,\n",
              "  'text': 'Bible says but you know what fuck the'},\n",
              " {'duration': 3.69,\n",
              "  'start': 223.98,\n",
              "  'text': \"Bible I'm voting for that guy he's\"},\n",
              " {'duration': 2.1,\n",
              "  'start': 226.17,\n",
              "  'text': 'better than Trump I mean that would be'},\n",
              " {'duration': 2.19, 'start': 227.67, 'text': 'great'},\n",
              " {'duration': 3.45,\n",
              "  'start': 228.27,\n",
              "  'text': \"but he's just I don't think he's the guy\"},\n",
              " {'duration': 4.56,\n",
              "  'start': 229.86,\n",
              "  'text': \"maybe he's the guy someday he's also a\"},\n",
              " {'duration': 5.73,\n",
              "  'start': 231.72,\n",
              "  'text': 'young guy right so who else who the fuck'},\n",
              " {'duration': 5.22,\n",
              "  'start': 234.42,\n",
              "  'text': \"is there especially since it's gonna be\"},\n",
              " {'duration': 4.14,\n",
              "  'start': 237.45,\n",
              "  'text': \"Biden and he said it's gonna be a woman\"},\n",
              " {'duration': 3.599,\n",
              "  'start': 239.64,\n",
              "  'text': \"he's definitely not gonna go with Tulsi\"},\n",
              " {'duration': 3.69, 'start': 241.59, 'text': \"she's too fucking dangerous\"},\n",
              " {'duration': 3.631,\n",
              "  'start': 243.239,\n",
              "  'text': 'yeah the the Democrats were scared of'},\n",
              " {'duration': 3.78,\n",
              "  'start': 245.28,\n",
              "  'text': \"her she doesn't play games which is so\"},\n",
              " {'duration': 3.42,\n",
              "  'start': 246.87,\n",
              "  'text': \"crazy I know she's got everything\"},\n",
              " {'duration': 4.2, 'start': 249.06, 'text': 'everything they want'},\n",
              " {'duration': 5.25,\n",
              "  'start': 250.29,\n",
              "  'text': 'woman of color congresswoman served'},\n",
              " {'duration': 4.56, 'start': 253.26, 'text': 'overseas two deployments'},\n",
              " {'duration': 3.99,\n",
              "  'start': 255.54,\n",
              "  'text': \"yeah she's got everything she's super\"},\n",
              " {'duration': 4.14, 'start': 257.82, 'text': 'articulate super Arctic seas'},\n",
              " {'duration': 5.13,\n",
              "  'start': 259.53,\n",
              "  'text': 'level-headed super level-headed very'},\n",
              " {'duration': 3.72,\n",
              "  'start': 261.96,\n",
              "  'text': \"intelligent yeah but she's just not\"},\n",
              " {'duration': 6.03, 'start': 264.66, 'text': 'corrupt'},\n",
              " {'duration': 6.78,\n",
              "  'start': 265.68,\n",
              "  'text': \"she's got this one problem problem I\"},\n",
              " {'duration': 4.58,\n",
              "  'start': 270.69,\n",
              "  'text': 'mean other than that you look at it like'},\n",
              " {'duration': 5.25,\n",
              "  'start': 272.46,\n",
              "  'text': \"Jesus Christ this lady she's willing to\"},\n",
              " {'duration': 5.29,\n",
              "  'start': 275.27,\n",
              "  'text': \"talk to people on the other side she's\"},\n",
              " {'duration': 5.19,\n",
              "  'start': 277.71,\n",
              "  'text': \"you know she's a States woman she's a\"},\n",
              " {'duration': 4.949,\n",
              "  'start': 280.56,\n",
              "  'text': 'you know the way she speaks she speaks'},\n",
              " {'duration': 4.23,\n",
              "  'start': 282.9,\n",
              "  'text': \"like a leader mm-hmm they won't even\"},\n",
              " {'duration': 4.981,\n",
              "  'start': 285.509,\n",
              "  'text': \"consider her she's too dangerous\"},\n",
              " {'duration': 5.789,\n",
              "  'start': 287.13,\n",
              "  'text': \"well so God says I'm going back to DJ\"},\n",
              " {'duration': 4.23,\n",
              "  'start': 290.49,\n",
              "  'text': \"Dwayne the rock Johnson yes that's what\"},\n",
              " {'duration': 2.911,\n",
              "  'start': 292.919,\n",
              "  'text': \"I'm saying back to independent yeah as\"},\n",
              " {'duration': 4.94, 'start': 294.72, 'text': 'an independent yeah'},\n",
              " {'duration': 3.83, 'start': 295.83, 'text': 'and waning Jaco 2020'},\n",
              " {'duration': 4.409, 'start': 305.4, 'text': '[Applause]'}]"
            ]
          },
          "metadata": {
            "tags": []
          },
          "execution_count": 8
        }
      ]
    },
    {
      "cell_type": "code",
      "metadata": {
        "id": "go1wJBYJnsIx",
        "colab_type": "code",
        "colab": {
          "base_uri": "https://localhost:8080/",
          "height": 563,
          "referenced_widgets": [
            "3f2532190cad461da517a0246f8300bf",
            "2dd9950657af48a68bd41a69b89a1b16",
            "a505ae7facf54a0ca75ef691a20952bf",
            "8f28ee54de4a4bd9b830d5883cbc2383",
            "97cd13ce40f74c049706b97f302070b1",
            "8d643a2cfb444ed99cc4dcbd3401f217",
            "68e3a88a7e2b4457a27ec1fd98501eef",
            "f26625ff5be64eaaaf11583932aa7975",
            "12da37b6d0034f2498a5fcf6c9aff1b9",
            "9963ac914c2d4cca9a9977232d207669",
            "dd0bf4a3d8d844c1b83d98884b2010ba",
            "af2e029b03394ce99d6159ce0cf75466",
            "7ad899b55eb2481cb7cf67d994d8de9f",
            "3742f767a176498681d4ab28c55edf23",
            "36c9b4a82b8a48cdbf6297f5a322a599",
            "0d886def88f8465c92586120b2872f7c",
            "ab0814bc5212402e8ae91e3cc76be1d4",
            "34842cc07c074df780e0706bf6c65136",
            "8138c1c1144d44d1a4976b7d5f1c07e8",
            "8f5e61b5ea69410cb5efa939448d41e5",
            "08ad7711e0254b5882cf7c0417ca7089",
            "61f175952e7f46b1bdfbc2de145b2ee5",
            "031529366daf4722bec5eeaa2d035c6e",
            "18459eed8e2e4db791ff04b1b550ba0e",
            "cfdab2c7b4ab435cbb9cd83338d6ceb7",
            "8dd3c980ab994a6f86fe6e397942e74a",
            "739bbbd697a742a4bc7b512382228523",
            "01cf31fb58a04082b42dcd9c0caba212",
            "a7393164b5044393b2e8bc315d209c9b",
            "dacfd3e20a0e4647a44d4911c94b2b88",
            "6b5b0ffddc8a43d1826b368f97b74aa0",
            "8bdfd280730a4ae982fdf086902003f7",
            "0e66099f49f74f5bbcafcb7991e5048c",
            "3bca5854ac6d4acdaa84dd7771a64f43",
            "2c7f8b93542044c09c8030026c6d7613",
            "55e22de2fc0e4bd5a13f52ad0de75166",
            "568eb360ff5e4104a38a24c11d3cedcf",
            "ba759f2a0c2e4aeb8ddad93bf9041c9e",
            "00a4bab5d2be4d0e97d1fc59f20b7778",
            "854974f2cfe34e24b3abe95199cb46ee"
          ]
        },
        "outputId": "d85281cf-d1ba-4567-99f0-6c8c9b637083"
      },
      "source": [
        "import torch\n",
        "pipeline = torch.hub.load('pyannote/pyannote-audio', 'dia')\n",
        "diarization = pipeline(DEMO_FILE)"
      ],
      "execution_count": 10,
      "outputs": [
        {
          "output_type": "stream",
          "text": [
            "Downloading: \"https://github.com/pyannote/pyannote-audio/archive/master.zip\" to /root/.cache/torch/hub/master.zip\n"
          ],
          "name": "stderr"
        },
        {
          "output_type": "stream",
          "text": [
            "Downloading list of pretrained models and pipelines to \"/root/.pyannote/hub/pretrained.yml\".\n"
          ],
          "name": "stdout"
        },
        {
          "output_type": "display_data",
          "data": {
            "application/vnd.jupyter.widget-view+json": {
              "model_id": "3f2532190cad461da517a0246f8300bf",
              "version_minor": 0,
              "version_major": 2
            },
            "text/plain": [
              "HBox(children=(FloatProgress(value=0.0, max=901.0), HTML(value='')))"
            ]
          },
          "metadata": {
            "tags": []
          }
        },
        {
          "output_type": "stream",
          "text": [
            "\n",
            "Downloading pretrained pipeline \"dia_dihard\" to \"/root/.pyannote/hub/pipelines/dia_dihard.zip\".\n"
          ],
          "name": "stdout"
        },
        {
          "output_type": "display_data",
          "data": {
            "application/vnd.jupyter.widget-view+json": {
              "model_id": "12da37b6d0034f2498a5fcf6c9aff1b9",
              "version_minor": 0,
              "version_major": 2
            },
            "text/plain": [
              "HBox(children=(FloatProgress(value=0.0, max=1529.0), HTML(value='')))"
            ]
          },
          "metadata": {
            "tags": []
          }
        },
        {
          "output_type": "stream",
          "text": [
            "\n"
          ],
          "name": "stdout"
        },
        {
          "output_type": "stream",
          "text": [
            "Using cache found in /root/.cache/torch/hub/pyannote_pyannote-audio_master\n"
          ],
          "name": "stderr"
        },
        {
          "output_type": "stream",
          "text": [
            "Downloading pretrained model \"sad_dihard\" to \"/root/.pyannote/hub/models/sad_dihard.zip\".\n"
          ],
          "name": "stdout"
        },
        {
          "output_type": "display_data",
          "data": {
            "application/vnd.jupyter.widget-view+json": {
              "model_id": "ab0814bc5212402e8ae91e3cc76be1d4",
              "version_minor": 0,
              "version_major": 2
            },
            "text/plain": [
              "HBox(children=(FloatProgress(value=0.0, max=2531992.0), HTML(value='')))"
            ]
          },
          "metadata": {
            "tags": []
          }
        },
        {
          "output_type": "stream",
          "text": [
            "\n"
          ],
          "name": "stdout"
        },
        {
          "output_type": "stream",
          "text": [
            "Using cache found in /root/.cache/torch/hub/pyannote_pyannote-audio_master\n"
          ],
          "name": "stderr"
        },
        {
          "output_type": "stream",
          "text": [
            "Downloading pretrained model \"scd_dihard\" to \"/root/.pyannote/hub/models/scd_dihard.zip\".\n"
          ],
          "name": "stdout"
        },
        {
          "output_type": "display_data",
          "data": {
            "application/vnd.jupyter.widget-view+json": {
              "model_id": "cfdab2c7b4ab435cbb9cd83338d6ceb7",
              "version_minor": 0,
              "version_major": 2
            },
            "text/plain": [
              "HBox(children=(FloatProgress(value=0.0, max=2513556.0), HTML(value='')))"
            ]
          },
          "metadata": {
            "tags": []
          }
        },
        {
          "output_type": "stream",
          "text": [
            "\n"
          ],
          "name": "stdout"
        },
        {
          "output_type": "stream",
          "text": [
            "Using cache found in /root/.cache/torch/hub/pyannote_pyannote-audio_master\n"
          ],
          "name": "stderr"
        },
        {
          "output_type": "stream",
          "text": [
            "Downloading pretrained model \"emb_voxceleb\" to \"/root/.pyannote/hub/models/emb_voxceleb.zip\".\n"
          ],
          "name": "stdout"
        },
        {
          "output_type": "display_data",
          "data": {
            "application/vnd.jupyter.widget-view+json": {
              "model_id": "0e66099f49f74f5bbcafcb7991e5048c",
              "version_minor": 0,
              "version_major": 2
            },
            "text/plain": [
              "HBox(children=(FloatProgress(value=0.0, max=17125163.0), HTML(value='')))"
            ]
          },
          "metadata": {
            "tags": []
          }
        },
        {
          "output_type": "stream",
          "text": [
            "\n"
          ],
          "name": "stdout"
        },
        {
          "output_type": "stream",
          "text": [
            "/usr/local/lib/python3.6/dist-packages/pyannote/audio/embedding/approaches/arcface_loss.py:170: FutureWarning:\n",
            "\n",
            "The 's' parameter is deprecated in favor of 'scale', and will be removed in a future release\n",
            "\n",
            "/usr/local/lib/python3.6/dist-packages/pyannote/audio/features/pretrained.py:156: UserWarning:\n",
            "\n",
            "Model was trained with 4s chunks and is applied on 2s chunks. This might lead to sub-optimal results.\n",
            "\n",
            "Using cache found in /root/.cache/torch/hub/pyannote_pyannote-audio_master\n"
          ],
          "name": "stderr"
        }
      ]
    },
    {
      "cell_type": "markdown",
      "metadata": {
        "id": "eTODmPKeofGo",
        "colab_type": "text"
      },
      "source": [
        "That's it? Yes, that's it :-)"
      ]
    },
    {
      "cell_type": "code",
      "metadata": {
        "id": "HCSXictzQOw9",
        "colab_type": "code",
        "colab": {
          "base_uri": "https://localhost:8080/",
          "height": 229
        },
        "outputId": "ccba8661-e495-403a-d727-9137c32cdd62"
      },
      "source": [
        "for label in diarization.labels():\n",
        "    timeLine=diarization.label_timeline(label)\n",
        "    for seg in timeLine.support_iter():\n",
        "        seg.start()\n",
        "        seg.end()"
      ],
      "execution_count": 9,
      "outputs": [
        {
          "output_type": "error",
          "ename": "NameError",
          "evalue": "ignored",
          "traceback": [
            "\u001b[0;31m---------------------------------------------------------------------------\u001b[0m",
            "\u001b[0;31mNameError\u001b[0m                                 Traceback (most recent call last)",
            "\u001b[0;32m<ipython-input-9-9c2048c7b710>\u001b[0m in \u001b[0;36m<module>\u001b[0;34m()\u001b[0m\n\u001b[0;32m----> 1\u001b[0;31m \u001b[0;32mfor\u001b[0m \u001b[0mlabel\u001b[0m \u001b[0;32min\u001b[0m \u001b[0mdiarization\u001b[0m\u001b[0;34m.\u001b[0m\u001b[0mlabels\u001b[0m\u001b[0;34m(\u001b[0m\u001b[0;34m)\u001b[0m\u001b[0;34m:\u001b[0m\u001b[0;34m\u001b[0m\u001b[0;34m\u001b[0m\u001b[0m\n\u001b[0m\u001b[1;32m      2\u001b[0m     \u001b[0mtimeLine\u001b[0m\u001b[0;34m=\u001b[0m\u001b[0mdiarization\u001b[0m\u001b[0;34m.\u001b[0m\u001b[0mlabel_timeline\u001b[0m\u001b[0;34m(\u001b[0m\u001b[0mlabel\u001b[0m\u001b[0;34m)\u001b[0m\u001b[0;34m\u001b[0m\u001b[0;34m\u001b[0m\u001b[0m\n\u001b[1;32m      3\u001b[0m     \u001b[0;32mfor\u001b[0m \u001b[0mseg\u001b[0m \u001b[0;32min\u001b[0m \u001b[0mtimeLine\u001b[0m\u001b[0;34m.\u001b[0m\u001b[0msupport_iter\u001b[0m\u001b[0;34m(\u001b[0m\u001b[0;34m)\u001b[0m\u001b[0;34m:\u001b[0m\u001b[0;34m\u001b[0m\u001b[0;34m\u001b[0m\u001b[0m\n\u001b[1;32m      4\u001b[0m         \u001b[0mseg\u001b[0m\u001b[0;34m.\u001b[0m\u001b[0mstart\u001b[0m\u001b[0;34m(\u001b[0m\u001b[0;34m)\u001b[0m\u001b[0;34m\u001b[0m\u001b[0;34m\u001b[0m\u001b[0m\n\u001b[1;32m      5\u001b[0m         \u001b[0mseg\u001b[0m\u001b[0;34m.\u001b[0m\u001b[0mend\u001b[0m\u001b[0;34m(\u001b[0m\u001b[0;34m)\u001b[0m\u001b[0;34m\u001b[0m\u001b[0;34m\u001b[0m\u001b[0m\n",
            "\u001b[0;31mNameError\u001b[0m: name 'diarization' is not defined"
          ]
        }
      ]
    },
    {
      "cell_type": "markdown",
      "metadata": {
        "id": "smAd5ofBqWWB",
        "colab_type": "text"
      },
      "source": [
        "# Evaluation with `pyannote.metrics`\n",
        "\n",
        "Because groundtruth is available, we can evaluate the quality of the diarization pipeline by computing the [diarization error rate](http://pyannote.github.io/pyannote-metrics/reference.html#diarization)."
      ]
    },
    {
      "cell_type": "code",
      "metadata": {
        "id": "z0Ore3eGpNyy",
        "colab_type": "code",
        "colab": {}
      },
      "source": [
        "from pyannote.metrics.diarization import DiarizationErrorRate\n",
        "metric = DiarizationErrorRate()\n",
        "der = metric(groundtruth, diarization)"
      ],
      "execution_count": null,
      "outputs": []
    },
    {
      "cell_type": "code",
      "metadata": {
        "id": "e0F8IUaqYFU8",
        "colab_type": "code",
        "colab": {
          "base_uri": "https://localhost:8080/",
          "height": 34
        },
        "outputId": "c88fd7f2-b3c7-41d6-804f-b90b8c2f233f"
      },
      "source": [
        "print(f'diarization error rate = {100 * der:.1f}%')"
      ],
      "execution_count": null,
      "outputs": [
        {
          "output_type": "stream",
          "text": [
            "diarization error rate = 42.9%\n"
          ],
          "name": "stdout"
        }
      ]
    },
    {
      "cell_type": "markdown",
      "metadata": {
        "id": "2w0Xp_ElrYTa",
        "colab_type": "text"
      },
      "source": [
        "This implementation of diarization error rate is brought to you by [`pyannote.metrics`](http://pyannote.github.io/pyannote-metrics/).\n",
        "\n",
        "It can also be used to improve visualization by find the optimal one-to-one mapping between groundtruth and hypothesized speakers."
      ]
    },
    {
      "cell_type": "code",
      "metadata": {
        "id": "WPF5JG3Ppt9K",
        "colab_type": "code",
        "colab": {
          "base_uri": "https://localhost:8080/",
          "height": 189
        },
        "outputId": "20927e56-2ee5-44b9-d248-0719fe79dd03"
      },
      "source": [
        "mapping = metric.optimal_mapping(groundtruth, diarization)\n",
        "diarization.rename_labels(mapping=mapping)"
      ],
      "execution_count": null,
      "outputs": [
        {
          "output_type": "execute_result",
          "data": {
            "image/png": "[encoded data removed]",
            "text/plain": [
              "<pyannote.core.annotation.Annotation at 0x7fcae6e00cc0>"
            ]
          },
          "metadata": {
            "tags": []
          },
          "execution_count": 10
        }
      ]
    },
    {
      "cell_type": "code",
      "metadata": {
        "id": "DKk6ePLWp4eB",
        "colab_type": "code",
        "colab": {
          "base_uri": "https://localhost:8080/",
          "height": 189
        },
        "outputId": "efc7064f-3e24-4ba1-9802-df85e6c46d7f"
      },
      "source": [
        "groundtruth"
      ],
      "execution_count": null,
      "outputs": [
        {
          "output_type": "execute_result",
          "data": {
            "image/png": "[encoded data removed]",
            "text/plain": [
              "<pyannote.core.annotation.Annotation at 0x7fcb58a75208>"
            ]
          },
          "metadata": {
            "tags": []
          },
          "execution_count": 11
        }
      ]
    },
    {
      "cell_type": "markdown",
      "metadata": {
        "id": "q4Rjo1aasVS1",
        "colab_type": "text"
      },
      "source": [
        "# Going further \n",
        "\n",
        "We have only scratched the surface in this introduction. \n",
        "\n",
        "More details about `pyannote.audio` can be found in the [paper](https://arxiv.org/abs/1911.01255), while tutorials (for training or fine-tuning models on your own data) are available on the [`pyannote.audio` Github repository](https://github.com/pyannote/pyannote-audio).\n"
      ]
    },
    {
      "cell_type": "markdown",
      "metadata": {
        "id": "O3YTgm_iXyyR",
        "colab_type": "text"
      },
      "source": [
        "## Teaser: overlap detection\n",
        "\n",
        "It can even do overlapped speech detection (which would definitely come very handy for this messy meeting conversation)"
      ]
    },
    {
      "cell_type": "code",
      "metadata": {
        "id": "S6TTe62aSRDn",
        "colab_type": "code",
        "colab": {
          "base_uri": "https://localhost:8080/",
          "height": 189
        },
        "outputId": "94f622ae-4d5d-4f17-9c4a-7c7e1b9b03ad"
      },
      "source": [
        "groundtruth"
      ],
      "execution_count": null,
      "outputs": [
        {
          "output_type": "execute_result",
          "data": {
            "image/png": "[encoded data removed]",
            "text/plain": [
              "<pyannote.core.annotation.Annotation at 0x7fcb58a75208>"
            ]
          },
          "metadata": {
            "tags": []
          },
          "execution_count": 13
        }
      ]
    },
    {
      "cell_type": "code",
      "metadata": {
        "colab_type": "code",
        "id": "ZmdLwexfSPn5",
        "colab": {
          "base_uri": "https://localhost:8080/",
          "height": 200,
          "referenced_widgets": [
            "b6478e241b874b2096bb46e2a9f054cc",
            "89c345810fe44bc3ab4c06e640f8b24a",
            "fac4d6b1d95d40bda06be8a8decfd2e8",
            "b8d36cf831da4e3782a34bb77306047a",
            "208bfb70c1154455ab758d06ee52c309",
            "55ac4954373d446ebc954b0a7903c674",
            "48435b42fa7c4fe8809677d4b901ce92",
            "5364859f0049427d8d81dae92bbadd50"
          ]
        },
        "outputId": "55abdac0-3dc4-4b6e-ae4a-6e56fb7c39f7"
      },
      "source": [
        "overlap_detection = torch.hub.load('pyannote/pyannote-audio', 'ovl_ami', pipeline=True)\n",
        "overlap_detection(DEMO_FILE).get_timeline()"
      ],
      "execution_count": null,
      "outputs": [
        {
          "output_type": "stream",
          "text": [
            "Using cache found in /root/.cache/torch/hub/pyannote_pyannote-audio_master\n"
          ],
          "name": "stderr"
        },
        {
          "output_type": "stream",
          "text": [
            "Downloading pretrained model \"ovl_ami\" to \"/root/.pyannote/hub/models/ovl_ami.zip\".\n"
          ],
          "name": "stdout"
        },
        {
          "output_type": "display_data",
          "data": {
            "application/vnd.jupyter.widget-view+json": {
              "model_id": "b6478e241b874b2096bb46e2a9f054cc",
              "version_minor": 0,
              "version_major": 2
            },
            "text/plain": [
              "HBox(children=(FloatProgress(value=0.0, max=2529931.0), HTML(value='')))"
            ]
          },
          "metadata": {
            "tags": []
          }
        },
        {
          "output_type": "stream",
          "text": [
            "\n"
          ],
          "name": "stdout"
        },
        {
          "output_type": "execute_result",
          "data": {
            "image/png": "[encoded data removed]",
            "text/plain": [
              "<Timeline(uri=ES2004a.Mix-Headset, segments=[<Segment(19.8822, 19.9986)>, <Segment(25.618, 25.7209)>, <Segment(29.4435, 30.645)>, <Segment(30.753, 32.2954)>, <Segment(80.8414, 80.9916)>, <Segment(83.2191, 83.4435)>, <Segment(121.559, 121.697)>, <Segment(147.577, 147.796)>, <Segment(180.325, 181.011)>, <Segment(276.144, 276.51)>, <Segment(289.467, 290.172)>, <Segment(315.645, 318.492)>, <Segment(356.312, 357.492)>, <Segment(358.425, 360.332)>, <Segment(361.511, 362.294)>, <Segment(364.4, 367.583)>, <Segment(373.484, 375.929)>, <Segment(376.765, 377.011)>, <Segment(378.169, 379.62)>, <Segment(381.88, 383.327)>, <Segment(393.992, 395.14)>, <Segment(395.896, 400.012)>, <Segment(403.058, 403.527)>, <Segment(405.267, 407.256)>, <Segment(421.171, 422.283)>, <Segment(439.736, 442.311)>, <Segment(456.551, 456.992)>, <Segment(465.428, 465.995)>, <Segment(468.043, 468.244)>, <Segment(468.352, 468.992)>, <Segment(482.385, 482.546)>, <Segment(483.005, 484.01)>, <Segment(487.222, 487.88)>, <Segment(488.835, 491.181)>, <Segment(497.732, 500.847)>, <Segment(501.01, 506.292)>, <Segment(520.012, 521.441)>, <Segment(524.122, 529.025)>, <Segment(544.016, 544.185)>, <Segment(544.587, 544.96)>, <Segment(547.466, 548.164)>, <Segment(554.479, 555.289)>, <Segment(576.484, 578.011)>, <Segment(580.789, 581.302)>, <Segment(582.555, 582.982)>, <Segment(583.988, 587.513)>, <Segment(590.681, 592.512)>, <Segment(593.511, 595.492)>, <Segment(603.399, 604.444)>, <Segment(605.563, 607.61)>, <Segment(613.325, 614.94)>, <Segment(617.396, 618.123)>, <Segment(621.424, 622.419)>, <Segment(623.766, 624.355)>, <Segment(630.992, 631.442)>, <Segment(635.497, 635.975)>, <Segment(636.167, 637.121)>, <Segment(645.138, 645.597)>, <Segment(648.872, 650.28)>, <Segment(654.011, 655.601)>, <Segment(661.79, 662.303)>, <Segment(666.573, 667.097)>, <Segment(686.85, 688.578)>, <Segment(691.009, 692.084)>, <Segment(700.81, 701.997)>, <Segment(705.993, 707.096)>, <Segment(707.984, 709.209)>, <Segment(711.825, 713.534)>, <Segment(734.959, 735.492)>, <Segment(737.222, 737.945)>, <Segment(746.326, 746.992)>, <Segment(747.488, 748.209)>, <Segment(749.75, 753.131)>, <Segment(755.111, 756.01)>, <Segment(757.298, 757.708)>, <Segment(768.39, 769.055)>, <Segment(772.266, 772.894)>, <Segment(775.502, 776.161)>, <Segment(777.23, 778.675)>, <Segment(784.963, 785.386)>, <Segment(786.895, 787.879)>, <Segment(791.986, 793.422)>, <Segment(794.234, 794.838)>, <Segment(803.756, 805.991)>, <Segment(811.092, 811.595)>, <Segment(811.757, 812.125)>, <Segment(816.121, 816.882)>, <Segment(817.433, 818.61)>, <Segment(819.769, 821.991)>, <Segment(822.398, 823.436)>, <Segment(825.731, 826.662)>, <Segment(829.239, 829.771)>, <Segment(829.923, 830.993)>, <Segment(833.22, 834.077)>, <Segment(838.765, 839.167)>, <Segment(841.021, 842.01)>, <Segment(843.473, 844.521)>, <Segment(862.292, 862.714)>, <Segment(863.18, 863.492)>, <Segment(864.44, 865.026)>, <Segment(872.184, 872.448)>, <Segment(878.307, 878.938)>, <Segment(885.111, 885.851)>, <Segment(893.511, 894.512)>, <Segment(895.303, 895.96)>, <Segment(898.317, 899.222)>, <Segment(905.511, 907.646)>, <Segment(911.847, 912.06)>, <Segment(923.581, 924.124)>, <Segment(930.724, 931.539)>, <Segment(932.936, 933.444)>, <Segment(934.588, 935.866)>, <Segment(946.291, 947.012)>, <Segment(949.826, 950.493)>, <Segment(950.731, 951.602)>, <Segment(952.012, 952.93)>, <Segment(954.769, 959.013)>, <Segment(959.585, 959.992)>, <Segment(965.609, 966.013)>, <Segment(966.128, 967.005)>, <Segment(968.806, 969.303)>, <Segment(970.491, 972.857)>, <Segment(988.492, 989.577)>, <Segment(990.984, 991.737)>, <Segment(994.312, 994.884)>, <Segment(1004.96, 1007.66)>, <Segment(1009.1, 1011.49)>, <Segment(1013.57, 1014.45)>, <Segment(1014.68, 1016.08)>, <Segment(1018.48, 1019.33)>, <Segment(1021.69, 1023.51)>, <Segment(1032.88, 1033.4)>, <Segment(1037.44, 1037.88)>, <Segment(1041.25, 1041.49)>, <Segment(1042.2, 1043.25)>, <Segment(1047.49, 1048.99)>])>"
            ]
          },
          "metadata": {
            "tags": []
          },
          "execution_count": 12
        }
      ]
    }
  ]
}