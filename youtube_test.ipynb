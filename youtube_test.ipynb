{
  "nbformat": 4,
  "nbformat_minor": 0,
  "metadata": {
    "colab": {
      "name": "youtube test",
      "provenance": [],
      "collapsed_sections": []
    },
    "kernelspec": {
      "name": "python3",
      "display_name": "Python 3"
    },
    "accelerator": "GPU",
    "widgets": {
      "application/vnd.jupyter.widget-state+json": {
        "b6478e241b874b2096bb46e2a9f054cc": {
          "model_module": "@jupyter-widgets/controls",
          "model_name": "HBoxModel",
          "state": {
            "_view_name": "HBoxView",
            "_dom_classes": [],
            "_model_name": "HBoxModel",
            "_view_module": "@jupyter-widgets/controls",
            "_model_module_version": "1.5.0",
            "_view_count": null,
            "_view_module_version": "1.5.0",
            "box_style": "",
            "layout": "IPY_MODEL_89c345810fe44bc3ab4c06e640f8b24a",
            "_model_module": "@jupyter-widgets/controls",
            "children": [
              "IPY_MODEL_fac4d6b1d95d40bda06be8a8decfd2e8",
              "IPY_MODEL_b8d36cf831da4e3782a34bb77306047a"
            ]
          }
        },
        "89c345810fe44bc3ab4c06e640f8b24a": {
          "model_module": "@jupyter-widgets/base",
          "model_name": "LayoutModel",
          "state": {
            "_view_name": "LayoutView",
            "grid_template_rows": null,
            "right": null,
            "justify_content": null,
            "_view_module": "@jupyter-widgets/base",
            "overflow": null,
            "_model_module_version": "1.2.0",
            "_view_count": null,
            "flex_flow": null,
            "width": null,
            "min_width": null,
            "border": null,
            "align_items": null,
            "bottom": null,
            "_model_module": "@jupyter-widgets/base",
            "top": null,
            "grid_column": null,
            "overflow_y": null,
            "overflow_x": null,
            "grid_auto_flow": null,
            "grid_area": null,
            "grid_template_columns": null,
            "flex": null,
            "_model_name": "LayoutModel",
            "justify_items": null,
            "grid_row": null,
            "max_height": null,
            "align_content": null,
            "visibility": null,
            "align_self": null,
            "height": null,
            "min_height": null,
            "padding": null,
            "grid_auto_rows": null,
            "grid_gap": null,
            "max_width": null,
            "order": null,
            "_view_module_version": "1.2.0",
            "grid_template_areas": null,
            "object_position": null,
            "object_fit": null,
            "grid_auto_columns": null,
            "margin": null,
            "display": null,
            "left": null
          }
        },
        "fac4d6b1d95d40bda06be8a8decfd2e8": {
          "model_module": "@jupyter-widgets/controls",
          "model_name": "FloatProgressModel",
          "state": {
            "_view_name": "ProgressView",
            "style": "IPY_MODEL_208bfb70c1154455ab758d06ee52c309",
            "_dom_classes": [],
            "description": "100%",
            "_model_name": "FloatProgressModel",
            "bar_style": "success",
            "max": 2529931,
            "_view_module": "@jupyter-widgets/controls",
            "_model_module_version": "1.5.0",
            "value": 2529931,
            "_view_count": null,
            "_view_module_version": "1.5.0",
            "orientation": "horizontal",
            "min": 0,
            "description_tooltip": null,
            "_model_module": "@jupyter-widgets/controls",
            "layout": "IPY_MODEL_55ac4954373d446ebc954b0a7903c674"
          }
        },
        "b8d36cf831da4e3782a34bb77306047a": {
          "model_module": "@jupyter-widgets/controls",
          "model_name": "HTMLModel",
          "state": {
            "_view_name": "HTMLView",
            "style": "IPY_MODEL_48435b42fa7c4fe8809677d4b901ce92",
            "_dom_classes": [],
            "description": "",
            "_model_name": "HTMLModel",
            "placeholder": "​",
            "_view_module": "@jupyter-widgets/controls",
            "_model_module_version": "1.5.0",
            "value": " 2.41M/2.41M [00:00&lt;00:00, 21.5MB/s]",
            "_view_count": null,
            "_view_module_version": "1.5.0",
            "description_tooltip": null,
            "_model_module": "@jupyter-widgets/controls",
            "layout": "IPY_MODEL_5364859f0049427d8d81dae92bbadd50"
          }
        },
        "208bfb70c1154455ab758d06ee52c309": {
          "model_module": "@jupyter-widgets/controls",
          "model_name": "ProgressStyleModel",
          "state": {
            "_view_name": "StyleView",
            "_model_name": "ProgressStyleModel",
            "description_width": "initial",
            "_view_module": "@jupyter-widgets/base",
            "_model_module_version": "1.5.0",
            "_view_count": null,
            "_view_module_version": "1.2.0",
            "bar_color": null,
            "_model_module": "@jupyter-widgets/controls"
          }
        },
        "55ac4954373d446ebc954b0a7903c674": {
          "model_module": "@jupyter-widgets/base",
          "model_name": "LayoutModel",
          "state": {
            "_view_name": "LayoutView",
            "grid_template_rows": null,
            "right": null,
            "justify_content": null,
            "_view_module": "@jupyter-widgets/base",
            "overflow": null,
            "_model_module_version": "1.2.0",
            "_view_count": null,
            "flex_flow": null,
            "width": null,
            "min_width": null,
            "border": null,
            "align_items": null,
            "bottom": null,
            "_model_module": "@jupyter-widgets/base",
            "top": null,
            "grid_column": null,
            "overflow_y": null,
            "overflow_x": null,
            "grid_auto_flow": null,
            "grid_area": null,
            "grid_template_columns": null,
            "flex": null,
            "_model_name": "LayoutModel",
            "justify_items": null,
            "grid_row": null,
            "max_height": null,
            "align_content": null,
            "visibility": null,
            "align_self": null,
            "height": null,
            "min_height": null,
            "padding": null,
            "grid_auto_rows": null,
            "grid_gap": null,
            "max_width": null,
            "order": null,
            "_view_module_version": "1.2.0",
            "grid_template_areas": null,
            "object_position": null,
            "object_fit": null,
            "grid_auto_columns": null,
            "margin": null,
            "display": null,
            "left": null
          }
        },
        "48435b42fa7c4fe8809677d4b901ce92": {
          "model_module": "@jupyter-widgets/controls",
          "model_name": "DescriptionStyleModel",
          "state": {
            "_view_name": "StyleView",
            "_model_name": "DescriptionStyleModel",
            "description_width": "",
            "_view_module": "@jupyter-widgets/base",
            "_model_module_version": "1.5.0",
            "_view_count": null,
            "_view_module_version": "1.2.0",
            "_model_module": "@jupyter-widgets/controls"
          }
        },
        "5364859f0049427d8d81dae92bbadd50": {
          "model_module": "@jupyter-widgets/base",
          "model_name": "LayoutModel",
          "state": {
            "_view_name": "LayoutView",
            "grid_template_rows": null,
            "right": null,
            "justify_content": null,
            "_view_module": "@jupyter-widgets/base",
            "overflow": null,
            "_model_module_version": "1.2.0",
            "_view_count": null,
            "flex_flow": null,
            "width": null,
            "min_width": null,
            "border": null,
            "align_items": null,
            "bottom": null,
            "_model_module": "@jupyter-widgets/base",
            "top": null,
            "grid_column": null,
            "overflow_y": null,
            "overflow_x": null,
            "grid_auto_flow": null,
            "grid_area": null,
            "grid_template_columns": null,
            "flex": null,
            "_model_name": "LayoutModel",
            "justify_items": null,
            "grid_row": null,
            "max_height": null,
            "align_content": null,
            "visibility": null,
            "align_self": null,
            "height": null,
            "min_height": null,
            "padding": null,
            "grid_auto_rows": null,
            "grid_gap": null,
            "max_width": null,
            "order": null,
            "_view_module_version": "1.2.0",
            "grid_template_areas": null,
            "object_position": null,
            "object_fit": null,
            "grid_auto_columns": null,
            "margin": null,
            "display": null,
            "left": null
          }
        }
      }
    }
  },
  "cells": [
    {
      "cell_type": "code",
      "metadata": {
        "id": "Rt5Lw2Mlz6VA",
        "colab_type": "code",
        "colab": {}
      },
      "source": [
        "!git clone https://github.com/brofcb/YoutubeTranscriptGetter.git"
      ],
      "execution_count": null,
      "outputs": []
    },
    {
      "cell_type": "code",
      "metadata": {
        "id": "AK_VKl9z0tVb",
        "colab_type": "code",
        "colab": {}
      },
      "source": [
        "!pip install pytube3"
      ],
      "execution_count": null,
      "outputs": []
    },
    {
      "cell_type": "code",
      "metadata": {
        "id": "yoo9Ie541jZd",
        "colab_type": "code",
        "colab": {}
      },
      "source": [
        "!pip install youtube-transcript-api"
      ],
      "execution_count": null,
      "outputs": []
    },
    {
      "cell_type": "code",
      "metadata": {
        "id": "OchoCx88z6Rq",
        "colab_type": "code",
        "colab": {}
      },
      "source": [
        "!cd YoutubeTranscriptGetter;python3 ./YoutubeDataApi.py"
      ],
      "execution_count": null,
      "outputs": []
    },
    {
      "cell_type": "code",
      "metadata": {
        "id": "vJGyKTQJqdzq",
        "colab_type": "code",
        "colab": {}
      },
      "source": [
        "!pip install https://github.com/pyannote/pyannote-audio/tarball/develop"
      ],
      "execution_count": null,
      "outputs": []
    },
    {
      "cell_type": "code",
      "metadata": {
        "id": "62flXtNIsA9q",
        "colab_type": "code",
        "colab": {}
      },
      "source": [
        "from pyannote.audio.features import RawAudio\n",
        "from IPython.display import Audio\n",
        "import json\n",
        "project=\"./YoutubeTranscriptGetter\"\n",
        "video=\"joe_rogan_dwayne_the_rock_johnson_for_president_\"\n",
        "DEMO_FILE = {'audio': project+\"/audio/\"+video+\".wav\"}\n",
        "with open(project+\"/Json_scripts/\"+video+\".json\") as f:\n",
        "  script = json.load(f)"
      ],
      "execution_count": 37,
      "outputs": []
    },
    {
      "cell_type": "code",
      "metadata": {
        "id": "p3nJcbqaL2nO",
        "colab_type": "code",
        "colab": {
          "base_uri": "https://localhost:8080/",
          "height": 67
        },
        "outputId": "b25d5379-4e3a-434f-945d-bf85e3f46f8d"
      },
      "source": [
        "script[0]"
      ],
      "execution_count": 38,
      "outputs": [
        {
          "output_type": "execute_result",
          "data": {
            "text/plain": [
              "{'duration': 4.859,\n",
              " 'start': 0.75,\n",
              " 'text': 'the joggin experienced in the past when'}"
            ]
          },
          "metadata": {
            "tags": []
          },
          "execution_count": 38
        }
      ]
    },
    {
      "cell_type": "code",
      "metadata": {
        "id": "go1wJBYJnsIx",
        "colab_type": "code",
        "colab": {}
      },
      "source": [
        "import torch\n",
        "pipeline = torch.hub.load('pyannote/pyannote-audio', 'dia')\n",
        "diarization = pipeline(DEMO_FILE)"
      ],
      "execution_count": null,
      "outputs": []
    },
    {
      "cell_type": "markdown",
      "metadata": {
        "id": "eTODmPKeofGo",
        "colab_type": "text"
      },
      "source": [
        "That's it? Yes, that's it :-)"
      ]
    },
    {
      "cell_type": "code",
      "metadata": {
        "id": "HCSXictzQOw9",
        "colab_type": "code",
        "colab": {
          "base_uri": "https://localhost:8080/",
          "height": 1000
        },
        "outputId": "e4a471b5-96bc-4ce6-c7fb-def1d485bd8d"
      },
      "source": [
        "\n",
        "for i in range(len(script)):\n",
        "  start = script[i][\"start\"]\n",
        "  end = start + script[i][\"duration\"]\n",
        "\n",
        "  for label in diarization.labels():\n",
        "    timeLine=diarization.label_timeline(label)\n",
        "    for seg in timeLine.support_iter():\n",
        "      if seg.start > start and seg.start < end:\n",
        "        if \"speaker\" in script[i].keys():\n",
        "          script[i][\"speaker\"].add(label)\n",
        "        else:\n",
        "          script[i][\"speaker\"] = {label}\n",
        "script\n",
        "#print(diarization)"
      ],
      "execution_count": 47,
      "outputs": [
        {
          "output_type": "execute_result",
          "data": {
            "text/plain": [
              "[{'duration': 4.859,\n",
              "  'speaker': {'B'},\n",
              "  'start': 0.75,\n",
              "  'text': 'the joggin experienced in the past when'},\n",
              " {'duration': 4.74,\n",
              "  'speaker': {'B'},\n",
              "  'start': 3.449,\n",
              "  'text': \"there's been disputes or things have\"},\n",
              " {'duration': 7.351,\n",
              "  'speaker': {'B'},\n",
              "  'start': 5.609,\n",
              "  'text': \"been wrong it seems like there's a clear\"},\n",
              " {'duration': 6.45,\n",
              "  'speaker': {'B'},\n",
              "  'start': 8.189,\n",
              "  'text': 'path to to sort of work things out it'},\n",
              " {'duration': 3.899,\n",
              "  'speaker': {'B'},\n",
              "  'start': 12.96,\n",
              "  'text': \"doesn't seem like a clear path\"},\n",
              " {'duration': 3.751,\n",
              "  'speaker': {'B'},\n",
              "  'start': 14.639,\n",
              "  'text': 'it seems like every day kind of gets a'},\n",
              " {'duration': 3.481,\n",
              "  'speaker': {'B'},\n",
              "  'start': 16.859,\n",
              "  'text': 'little worse like people get ramped up'},\n",
              " {'duration': 4.799,\n",
              "  'speaker': {'B'},\n",
              "  'start': 18.39,\n",
              "  'text': \"even more and then there's this event\"},\n",
              " {'duration': 6.179,\n",
              "  'speaker': {'B'},\n",
              "  'start': 20.34,\n",
              "  'text': \"that's looming on the horizon this\"},\n",
              " {'duration': 5.43,\n",
              "  'speaker': {'B'},\n",
              "  'start': 23.189,\n",
              "  'text': 'November event this election event I no'},\n",
              " {'duration': 4.651,\n",
              "  'speaker': {'B'},\n",
              "  'start': 26.519,\n",
              "  'text': \"matter what whether it's left or right\"},\n",
              " {'duration': 7.291,\n",
              "  'speaker': {'A', 'B'},\n",
              "  'start': 28.619,\n",
              "  'text': 'whether Biden wins or Trump wins is'},\n",
              " {'duration': 7.83,\n",
              "  'speaker': {'A'},\n",
              "  'start': 31.17,\n",
              "  'text': 'gonna be madness and chaos it seems hard'},\n",
              " {'duration': 6.51,\n",
              "  'speaker': {'A'},\n",
              "  'start': 35.91,\n",
              "  'text': 'for me to understand that Biden could it'},\n",
              " {'duration': 5.43,\n",
              "  'speaker': {'A'},\n",
              "  'start': 39.0,\n",
              "  'text': 'could maintain his health you know'},\n",
              " {'duration': 4.229,\n",
              "  'speaker': {'A'},\n",
              "  'start': 42.42,\n",
              "  'text': 'through a presidency that seems very'},\n",
              " {'duration': 6.0,\n",
              "  'speaker': {'A'},\n",
              "  'start': 44.43,\n",
              "  'text': 'challenging to me yeah I mean it seems'},\n",
              " {'duration': 6.961,\n",
              "  'speaker': {'A'},\n",
              "  'start': 46.649,\n",
              "  'text': \"like he's been going down you know with\"},\n",
              " {'duration': 5.01,\n",
              "  'speaker': {'A'},\n",
              "  'start': 50.43,\n",
              "  'text': 'his coherence level you can kind of see'},\n",
              " {'duration': 4.44,\n",
              "  'speaker': {'A'},\n",
              "  'start': 53.61,\n",
              "  'text': \"it over even months right yeah he's on a\"},\n",
              " {'duration': 5.689,\n",
              "  'speaker': {'A', 'B'},\n",
              "  'start': 55.44,\n",
              "  'text': 'really really rapid downward spiral'},\n",
              " {'duration': 5.84,\n",
              "  'speaker': {'B'},\n",
              "  'start': 58.05,\n",
              "  'text': 'well it seems stressful for anybody'},\n",
              " {'duration': 6.251,\n",
              "  'speaker': {'B'},\n",
              "  'start': 61.129,\n",
              "  'text': 'except Trump for whatever fucking reason'},\n",
              " {'duration': 6.31,\n",
              "  'speaker': {'B'},\n",
              "  'start': 63.89,\n",
              "  'text': 'that guy eats it up but for most people'},\n",
              " {'duration': 5.97,\n",
              "  'speaker': {'B'},\n",
              "  'start': 67.38,\n",
              "  'text': 'running for president alone just the'},\n",
              " {'duration': 5.309,\n",
              "  'speaker': {'B'},\n",
              "  'start': 70.2,\n",
              "  'text': \"grueling just the schedule that's\"},\n",
              " {'duration': 4.769,\n",
              "  'speaker': {'B'},\n",
              "  'start': 73.35,\n",
              "  'text': 'involved in traveling and doing all'},\n",
              " {'duration': 3.841,\n",
              "  'speaker': {'B'},\n",
              "  'start': 75.509,\n",
              "  'text': 'these speeches and it just breaks him'},\n",
              " {'duration': 3.57,\n",
              "  'speaker': {'B'},\n",
              "  'start': 78.119,\n",
              "  'text': 'down I mean one of the reasons why'},\n",
              " {'duration': 4.32,\n",
              "  'speaker': {'B'},\n",
              "  'start': 79.35,\n",
              "  'text': \"Hillary lost was she just wasn't willing\"},\n",
              " {'duration': 3.391,\n",
              "  'speaker': {'B'},\n",
              "  'start': 81.689,\n",
              "  'text': 'to travel as much there was all these'},\n",
              " {'duration': 3.51,\n",
              "  'speaker': {'B'},\n",
              "  'start': 83.67,\n",
              "  'text': 'different events that she was supposed'},\n",
              " {'duration': 3.3,\n",
              "  'speaker': {'B'},\n",
              "  'start': 85.08,\n",
              "  'text': \"to go to she just couldn't go she\"},\n",
              " {'duration': 2.67,\n",
              "  'start': 87.18,\n",
              "  'text': \"couldn't take it anymore she thought she\"},\n",
              " {'duration': 4.65,\n",
              "  'speaker': {'A'},\n",
              "  'start': 88.38,\n",
              "  'text': \"was gonna win anyway so she'd just say\"},\n",
              " {'duration': 6.479,\n",
              "  'speaker': {'A'},\n",
              "  'start': 89.85,\n",
              "  'text': 'it Laidback yeah yeah it definitely is a'},\n",
              " {'duration': 4.53,\n",
              "  'speaker': {'A'},\n",
              "  'start': 93.03,\n",
              "  'text': \"brutal thing but it's really also just\"},\n",
              " {'duration': 2.941,\n",
              "  'speaker': {'A', 'B'},\n",
              "  'start': 96.329,\n",
              "  'text': 'completely insane that the two'},\n",
              " {'duration': 4.019,\n",
              "  'speaker': {'A', 'B'},\n",
              "  'start': 97.56,\n",
              "  'text': 'candidates are these two people well'},\n",
              " {'duration': 4.11,\n",
              "  'speaker': {'B'},\n",
              "  'start': 99.27,\n",
              "  'text': 'yeah first of all that the best that'},\n",
              " {'duration': 3.72,\n",
              "  'speaker': {'B'},\n",
              "  'start': 101.579,\n",
              "  'text': 'Democrats could do I mean they had all'},\n",
              " {'duration': 5.19,\n",
              "  'speaker': {'B'},\n",
              "  'start': 103.38,\n",
              "  'text': 'these other people that were well-spoken'},\n",
              " {'duration': 6.11,\n",
              "  'speaker': {'B'},\n",
              "  'start': 105.299,\n",
              "  'text': 'yeah he seemed like young and healthy'},\n",
              " {'duration': 5.61,\n",
              "  'speaker': {'A', 'B'},\n",
              "  'start': 108.57,\n",
              "  'text': \"and there was you know there's so many\"},\n",
              " {'duration': 4.78,\n",
              "  'speaker': {'A'},\n",
              "  'start': 111.409,\n",
              "  'text': 'that is hard to comprehend yeah right'},\n",
              " {'duration': 3.99,\n",
              "  'speaker': {'A'},\n",
              "  'start': 114.18,\n",
              "  'text': \"it's really hard to comprehend that yeah\"},\n",
              " {'duration': 3.841,\n",
              "  'speaker': {'A'},\n",
              "  'start': 116.189,\n",
              "  'text': \"that you're looking at these this group\"},\n",
              " {'duration': 3.629,\n",
              "  'start': 118.17,\n",
              "  'text': 'of whatever we have 350 million people'},\n",
              " {'duration': 4.74,\n",
              "  'speaker': {'A', 'B'},\n",
              "  'start': 120.03,\n",
              "  'text': '320 million people in America and this'},\n",
              " {'duration': 5.191,\n",
              "  'speaker': {'A', 'B'},\n",
              "  'start': 121.799,\n",
              "  'text': 'is this is who you end up with fucking'},\n",
              " {'duration': 3.599,\n",
              "  'speaker': {'B'},\n",
              "  'start': 124.77,\n",
              "  'text': 'anybody but Biden anybody I mean we'},\n",
              " {'duration': 2.909,\n",
              "  'start': 126.99,\n",
              "  'text': \"don't even know who's vice president is\"},\n",
              " {'duration': 3.031,\n",
              "  'speaker': {'B'},\n",
              "  'start': 128.369,\n",
              "  'text': \"right that's gonna make a big deal\"},\n",
              " {'duration': 3.511,\n",
              "  'speaker': {'B'},\n",
              "  'start': 129.899,\n",
              "  'text': \"that's gonna be a big different cuz the\"},\n",
              " {'duration': 3.93,\n",
              "  'speaker': {'B'},\n",
              "  'start': 131.4,\n",
              "  'text': 'vice president is compelling and'},\n",
              " {'duration': 4.8,\n",
              "  'speaker': {'B'},\n",
              "  'start': 133.41,\n",
              "  'text': 'thing he says gonna pick a woman whether'},\n",
              " {'duration': 5.64,\n",
              "  'speaker': {'B'},\n",
              "  'start': 135.33,\n",
              "  'text': 'he picks probably it was gonna pick Clos'},\n",
              " {'duration': 6.27,\n",
              "  'speaker': {'B'},\n",
              "  'start': 138.21,\n",
              "  'text': 'Bashar close showers responsible for a'},\n",
              " {'duration': 5.67,\n",
              "  'speaker': {'B'},\n",
              "  'start': 140.97,\n",
              "  'text': 'lot of those guys skating in Minneapolis'},\n",
              " {'duration': 4.92,\n",
              "  'speaker': {'B'},\n",
              "  'start': 144.48,\n",
              "  'text': \"so well that's not good\"},\n",
              " {'duration': 4.98,\n",
              "  'speaker': {'B'},\n",
              "  'start': 146.64,\n",
              "  'text': \"and then if he's gonna go with Kamala\"},\n",
              " {'duration': 4.71,\n",
              "  'speaker': {'B'},\n",
              "  'start': 149.4,\n",
              "  'text': 'Harris Tulsi Gabbard kind of took the'},\n",
              " {'duration': 4.02,\n",
              "  'speaker': {'B'},\n",
              "  'start': 151.62,\n",
              "  'text': \"legs off of that lady yeah so then who's\"},\n",
              " {'duration': 4.35,\n",
              "  'speaker': {'B'},\n",
              "  'start': 154.11,\n",
              "  'text': 'left mayor Pete'},\n",
              " {'duration': 4.44,\n",
              "  'speaker': {'B'},\n",
              "  'start': 155.64,\n",
              "  'text': 'he seems like a guy was just you know'},\n",
              " {'duration': 3.96,\n",
              "  'start': 158.46,\n",
              "  'text': \"like he's got a playbook he's kind of\"},\n",
              " {'duration': 5.1,\n",
              "  'speaker': {'B'},\n",
              "  'start': 160.08,\n",
              "  'text': 'like following this Obama playbook and I'},\n",
              " {'duration': 5.52,\n",
              "  'speaker': {'B'},\n",
              "  'start': 162.42,\n",
              "  'text': \"just don't feel it from him at all the\"},\n",
              " {'duration': 4.08,\n",
              "  'speaker': {'B'},\n",
              "  'start': 165.18,\n",
              "  'text': \"least he's gay we'd have a gay guy in\"},\n",
              " {'duration': 3.51,\n",
              "  'speaker': {'B'},\n",
              "  'start': 167.94,\n",
              "  'text': \"office I'd have lighting people up a\"},\n",
              " {'duration': 4.14,\n",
              "  'speaker': {'B'},\n",
              "  'start': 169.26,\n",
              "  'text': 'little bit I believe that we had a'},\n",
              " {'duration': 3.96,\n",
              "  'speaker': {'B'},\n",
              "  'start': 171.45,\n",
              "  'text': \"powerful gay leader I think it'd be\"},\n",
              " {'duration': 4.83,\n",
              "  'speaker': {'B'},\n",
              "  'start': 173.4,\n",
              "  'text': 'great for the country like I think you'},\n",
              " {'duration': 4.62,\n",
              "  'speaker': {'B'},\n",
              "  'start': 175.41,\n",
              "  'text': 'know like the the one of the things'},\n",
              " {'duration': 3.36,\n",
              "  'start': 178.23,\n",
              "  'text': 'about Obama being office beside the fact'},\n",
              " {'duration': 3.27,\n",
              "  'start': 180.03,\n",
              "  'text': 'it being office beside the fact that'},\n",
              " {'duration': 4.38,\n",
              "  'speaker': {'B'},\n",
              "  'start': 181.59,\n",
              "  'text': \"he's very articulate and educated and\"},\n",
              " {'duration': 4.47,\n",
              "  'speaker': {'B'},\n",
              "  'start': 183.3,\n",
              "  'text': \"it's a well-spoken statesman said it's\"},\n",
              " {'duration': 4.08,\n",
              "  'speaker': {'B'},\n",
              "  'start': 185.97,\n",
              "  'text': \"like hey look we're making progress\"},\n",
              " {'duration': 4.74,\n",
              "  'speaker': {'B'},\n",
              "  'start': 187.77,\n",
              "  'text': 'we have a black president like I felt'},\n",
              " {'duration': 4.44,\n",
              "  'speaker': {'B'},\n",
              "  'start': 190.05,\n",
              "  'text': 'that I felt like a wave across the'},\n",
              " {'duration': 4.47,\n",
              "  'speaker': {'B'},\n",
              "  'start': 192.51,\n",
              "  'text': 'country people like you you can be'},\n",
              " {'duration': 5.19,\n",
              "  'speaker': {'B'},\n",
              "  'start': 194.49,\n",
              "  'text': 'present in this country like even if'},\n",
              " {'duration': 6.03,\n",
              "  'speaker': {'B'},\n",
              "  'start': 196.98,\n",
              "  'text': \"you're born out of a single family\"},\n",
              " {'duration': 6.27,\n",
              "  'speaker': {'B'},\n",
              "  'start': 199.68,\n",
              "  'text': \"single mother family and you're a black\"},\n",
              " {'duration': 5.31,\n",
              "  'speaker': {'B'},\n",
              "  'start': 203.01,\n",
              "  'text': 'guy you can you as long as you got the'},\n",
              " {'duration': 4.23,\n",
              "  'speaker': {'B'},\n",
              "  'start': 205.95,\n",
              "  'text': 'goods you can make it like this is great'},\n",
              " {'duration': 4.47,\n",
              "  'speaker': {'B'},\n",
              "  'start': 208.32,\n",
              "  'text': 'this means we really are living in a'},\n",
              " {'duration': 3.72,\n",
              "  'speaker': {'B'},\n",
              "  'start': 210.18,\n",
              "  'text': 'meritocracy and it would be great if'},\n",
              " {'duration': 3.18,\n",
              "  'speaker': {'B'},\n",
              "  'start': 212.79,\n",
              "  'text': 'there was a gay guy that had the same'},\n",
              " {'duration': 4.2,\n",
              "  'speaker': {'B'},\n",
              "  'start': 213.9,\n",
              "  'text': 'experience like like all the people that'},\n",
              " {'duration': 6.03,\n",
              "  'speaker': {'B'},\n",
              "  'start': 215.97,\n",
              "  'text': 'are homophobes like yeah but that'},\n",
              " {'duration': 5.88,\n",
              "  'start': 218.1,\n",
              "  'text': \"fucking mayor Pete he's got me yeah the\"},\n",
              " {'duration': 4.17,\n",
              "  'speaker': {'B'},\n",
              "  'start': 222.0,\n",
              "  'text': 'Bible says but you know what fuck the'},\n",
              " {'duration': 3.69,\n",
              "  'speaker': {'B'},\n",
              "  'start': 223.98,\n",
              "  'text': \"Bible I'm voting for that guy he's\"},\n",
              " {'duration': 2.1,\n",
              "  'start': 226.17,\n",
              "  'text': 'better than Trump I mean that would be'},\n",
              " {'duration': 2.19, 'speaker': {'B'}, 'start': 227.67, 'text': 'great'},\n",
              " {'duration': 3.45,\n",
              "  'speaker': {'B'},\n",
              "  'start': 228.27,\n",
              "  'text': \"but he's just I don't think he's the guy\"},\n",
              " {'duration': 4.56,\n",
              "  'speaker': {'B'},\n",
              "  'start': 229.86,\n",
              "  'text': \"maybe he's the guy someday he's also a\"},\n",
              " {'duration': 5.73,\n",
              "  'speaker': {'B'},\n",
              "  'start': 231.72,\n",
              "  'text': 'young guy right so who else who the fuck'},\n",
              " {'duration': 5.22,\n",
              "  'speaker': {'B'},\n",
              "  'start': 234.42,\n",
              "  'text': \"is there especially since it's gonna be\"},\n",
              " {'duration': 4.14,\n",
              "  'speaker': {'B'},\n",
              "  'start': 237.45,\n",
              "  'text': \"Biden and he said it's gonna be a woman\"},\n",
              " {'duration': 3.599,\n",
              "  'speaker': {'B'},\n",
              "  'start': 239.64,\n",
              "  'text': \"he's definitely not gonna go with Tulsi\"},\n",
              " {'duration': 3.69,\n",
              "  'speaker': {'B'},\n",
              "  'start': 241.59,\n",
              "  'text': \"she's too fucking dangerous\"},\n",
              " {'duration': 3.631,\n",
              "  'start': 243.239,\n",
              "  'text': 'yeah the the Democrats were scared of'},\n",
              " {'duration': 3.78,\n",
              "  'speaker': {'B'},\n",
              "  'start': 245.28,\n",
              "  'text': \"her she doesn't play games which is so\"},\n",
              " {'duration': 3.42,\n",
              "  'speaker': {'B'},\n",
              "  'start': 246.87,\n",
              "  'text': \"crazy I know she's got everything\"},\n",
              " {'duration': 4.2,\n",
              "  'speaker': {'B'},\n",
              "  'start': 249.06,\n",
              "  'text': 'everything they want'},\n",
              " {'duration': 5.25,\n",
              "  'speaker': {'B'},\n",
              "  'start': 250.29,\n",
              "  'text': 'woman of color congresswoman served'},\n",
              " {'duration': 4.56,\n",
              "  'speaker': {'A'},\n",
              "  'start': 253.26,\n",
              "  'text': 'overseas two deployments'},\n",
              " {'duration': 3.99,\n",
              "  'speaker': {'A'},\n",
              "  'start': 255.54,\n",
              "  'text': \"yeah she's got everything she's super\"},\n",
              " {'duration': 4.14,\n",
              "  'speaker': {'B'},\n",
              "  'start': 257.82,\n",
              "  'text': 'articulate super Arctic seas'},\n",
              " {'duration': 5.13,\n",
              "  'speaker': {'B'},\n",
              "  'start': 259.53,\n",
              "  'text': 'level-headed super level-headed very'},\n",
              " {'duration': 3.72,\n",
              "  'speaker': {'B'},\n",
              "  'start': 261.96,\n",
              "  'text': \"intelligent yeah but she's just not\"},\n",
              " {'duration': 6.03, 'speaker': {'B'}, 'start': 264.66, 'text': 'corrupt'},\n",
              " {'duration': 6.78,\n",
              "  'speaker': {'B'},\n",
              "  'start': 265.68,\n",
              "  'text': \"she's got this one problem problem I\"},\n",
              " {'duration': 4.58,\n",
              "  'start': 270.69,\n",
              "  'text': 'mean other than that you look at it like'},\n",
              " {'duration': 5.25,\n",
              "  'start': 272.46,\n",
              "  'text': \"Jesus Christ this lady she's willing to\"},\n",
              " {'duration': 5.29,\n",
              "  'speaker': {'B'},\n",
              "  'start': 275.27,\n",
              "  'text': \"talk to people on the other side she's\"},\n",
              " {'duration': 5.19,\n",
              "  'speaker': {'B'},\n",
              "  'start': 277.71,\n",
              "  'text': \"you know she's a States woman she's a\"},\n",
              " {'duration': 4.949,\n",
              "  'speaker': {'B'},\n",
              "  'start': 280.56,\n",
              "  'text': 'you know the way she speaks she speaks'},\n",
              " {'duration': 4.23,\n",
              "  'speaker': {'B'},\n",
              "  'start': 282.9,\n",
              "  'text': \"like a leader mm-hmm they won't even\"},\n",
              " {'duration': 4.981,\n",
              "  'speaker': {'A'},\n",
              "  'start': 285.509,\n",
              "  'text': \"consider her she's too dangerous\"},\n",
              " {'duration': 5.789,\n",
              "  'speaker': {'A', 'B'},\n",
              "  'start': 287.13,\n",
              "  'text': \"well so God says I'm going back to DJ\"},\n",
              " {'duration': 4.23,\n",
              "  'speaker': {'A', 'B'},\n",
              "  'start': 290.49,\n",
              "  'text': \"Dwayne the rock Johnson yes that's what\"},\n",
              " {'duration': 2.911,\n",
              "  'start': 292.919,\n",
              "  'text': \"I'm saying back to independent yeah as\"},\n",
              " {'duration': 4.94,\n",
              "  'speaker': {'B'},\n",
              "  'start': 294.72,\n",
              "  'text': 'an independent yeah'},\n",
              " {'duration': 3.83,\n",
              "  'speaker': {'A', 'B'},\n",
              "  'start': 295.83,\n",
              "  'text': 'and waning Jaco 2020'},\n",
              " {'duration': 4.409,\n",
              "  'speaker': {'A', 'B'},\n",
              "  'start': 305.4,\n",
              "  'text': '[Applause]'}]"
            ]
          },
          "metadata": {
            "tags": []
          },
          "execution_count": 47
        }
      ]
    },
    {
      "cell_type": "markdown",
      "metadata": {
        "id": "smAd5ofBqWWB",
        "colab_type": "text"
      },
      "source": [
        "# Evaluation with `pyannote.metrics`\n",
        "\n",
        "Because groundtruth is available, we can evaluate the quality of the diarization pipeline by computing the [diarization error rate](http://pyannote.github.io/pyannote-metrics/reference.html#diarization)."
      ]
    },
    {
      "cell_type": "code",
      "metadata": {
        "id": "z0Ore3eGpNyy",
        "colab_type": "code",
        "colab": {}
      },
      "source": [
        "from pyannote.metrics.diarization import DiarizationErrorRate\n",
        "metric = DiarizationErrorRate()\n",
        "der = metric(groundtruth, diarization)"
      ],
      "execution_count": null,
      "outputs": []
    },
    {
      "cell_type": "code",
      "metadata": {
        "id": "e0F8IUaqYFU8",
        "colab_type": "code",
        "colab": {
          "base_uri": "https://localhost:8080/",
          "height": 34
        },
        "outputId": "c88fd7f2-b3c7-41d6-804f-b90b8c2f233f"
      },
      "source": [
        "print(f'diarization error rate = {100 * der:.1f}%')"
      ],
      "execution_count": null,
      "outputs": [
        {
          "output_type": "stream",
          "text": [
            "diarization error rate = 42.9%\n"
          ],
          "name": "stdout"
        }
      ]
    },
    {
      "cell_type": "markdown",
      "metadata": {
        "id": "2w0Xp_ElrYTa",
        "colab_type": "text"
      },
      "source": [
        "This implementation of diarization error rate is brought to you by [`pyannote.metrics`](http://pyannote.github.io/pyannote-metrics/).\n",
        "\n",
        "It can also be used to improve visualization by find the optimal one-to-one mapping between groundtruth and hypothesized speakers."
      ]
    },
    {
      "cell_type": "code",
      "metadata": {
        "id": "WPF5JG3Ppt9K",
        "colab_type": "code",
        "colab": {
          "base_uri": "https://localhost:8080/",
          "height": 189
        },
        "outputId": "20927e56-2ee5-44b9-d248-0719fe79dd03"
      },
      "source": [
        "mapping = metric.optimal_mapping(groundtruth, diarization)\n",
        "diarization.rename_labels(mapping=mapping)"
      ],
      "execution_count": null,
      "outputs": [
        {
          "output_type": "execute_result",
          "data": {
            "image/png": "[encoded data removed]",
            "text/plain": [
              "<pyannote.core.annotation.Annotation at 0x7fcae6e00cc0>"
            ]
          },
          "metadata": {
            "tags": []
          },
          "execution_count": 10
        }
      ]
    },
    {
      "cell_type": "code",
      "metadata": {
        "id": "DKk6ePLWp4eB",
        "colab_type": "code",
        "colab": {
          "base_uri": "https://localhost:8080/",
          "height": 189
        },
        "outputId": "efc7064f-3e24-4ba1-9802-df85e6c46d7f"
      },
      "source": [
        "groundtruth"
      ],
      "execution_count": null,
      "outputs": [
        {
          "output_type": "execute_result",
          "data": {
            "image/png": "[encoded data removed]",
            "text/plain": [
              "<pyannote.core.annotation.Annotation at 0x7fcb58a75208>"
            ]
          },
          "metadata": {
            "tags": []
          },
          "execution_count": 11
        }
      ]
    },
    {
      "cell_type": "markdown",
      "metadata": {
        "id": "q4Rjo1aasVS1",
        "colab_type": "text"
      },
      "source": [
        "# Going further \n",
        "\n",
        "We have only scratched the surface in this introduction. \n",
        "\n",
        "More details about `pyannote.audio` can be found in the [paper](https://arxiv.org/abs/1911.01255), while tutorials (for training or fine-tuning models on your own data) are available on the [`pyannote.audio` Github repository](https://github.com/pyannote/pyannote-audio).\n"
      ]
    },
    {
      "cell_type": "markdown",
      "metadata": {
        "id": "O3YTgm_iXyyR",
        "colab_type": "text"
      },
      "source": [
        "## Teaser: overlap detection\n",
        "\n",
        "It can even do overlapped speech detection (which would definitely come very handy for this messy meeting conversation)"
      ]
    },
    {
      "cell_type": "code",
      "metadata": {
        "id": "S6TTe62aSRDn",
        "colab_type": "code",
        "colab": {
          "base_uri": "https://localhost:8080/",
          "height": 189
        },
        "outputId": "94f622ae-4d5d-4f17-9c4a-7c7e1b9b03ad"
      },
      "source": [
        "groundtruth"
      ],
      "execution_count": null,
      "outputs": [
        {
          "output_type": "execute_result",
          "data": {
            "image/png": "[encoded data removed]",
            "text/plain": [
              "<pyannote.core.annotation.Annotation at 0x7fcb58a75208>"
            ]
          },
          "metadata": {
            "tags": []
          },
          "execution_count": 13
        }
      ]
    },
    {
      "cell_type": "code",
      "metadata": {
        "colab_type": "code",
        "id": "ZmdLwexfSPn5",
        "colab": {
          "base_uri": "https://localhost:8080/",
          "height": 200,
          "referenced_widgets": [
            "b6478e241b874b2096bb46e2a9f054cc",
            "89c345810fe44bc3ab4c06e640f8b24a",
            "fac4d6b1d95d40bda06be8a8decfd2e8",
            "b8d36cf831da4e3782a34bb77306047a",
            "208bfb70c1154455ab758d06ee52c309",
            "55ac4954373d446ebc954b0a7903c674",
            "48435b42fa7c4fe8809677d4b901ce92",
            "5364859f0049427d8d81dae92bbadd50"
          ]
        },
        "outputId": "55abdac0-3dc4-4b6e-ae4a-6e56fb7c39f7"
      },
      "source": [
        "overlap_detection = torch.hub.load('pyannote/pyannote-audio', 'ovl_ami', pipeline=True)\n",
        "overlap_detection(DEMO_FILE).get_timeline()"
      ],
      "execution_count": null,
      "outputs": [
        {
          "output_type": "stream",
          "text": [
            "Using cache found in /root/.cache/torch/hub/pyannote_pyannote-audio_master\n"
          ],
          "name": "stderr"
        },
        {
          "output_type": "stream",
          "text": [
            "Downloading pretrained model \"ovl_ami\" to \"/root/.pyannote/hub/models/ovl_ami.zip\".\n"
          ],
          "name": "stdout"
        },
        {
          "output_type": "display_data",
          "data": {
            "application/vnd.jupyter.widget-view+json": {
              "model_id": "b6478e241b874b2096bb46e2a9f054cc",
              "version_minor": 0,
              "version_major": 2
            },
            "text/plain": [
              "HBox(children=(FloatProgress(value=0.0, max=2529931.0), HTML(value='')))"
            ]
          },
          "metadata": {
            "tags": []
          }
        },
        {
          "output_type": "stream",
          "text": [
            "\n"
          ],
          "name": "stdout"
        },
        {
          "output_type": "execute_result",
          "data": {
            "image/png": "[encoded data removed]",
            "text/plain": [
              "<Timeline(uri=ES2004a.Mix-Headset, segments=[<Segment(19.8822, 19.9986)>, <Segment(25.618, 25.7209)>, <Segment(29.4435, 30.645)>, <Segment(30.753, 32.2954)>, <Segment(80.8414, 80.9916)>, <Segment(83.2191, 83.4435)>, <Segment(121.559, 121.697)>, <Segment(147.577, 147.796)>, <Segment(180.325, 181.011)>, <Segment(276.144, 276.51)>, <Segment(289.467, 290.172)>, <Segment(315.645, 318.492)>, <Segment(356.312, 357.492)>, <Segment(358.425, 360.332)>, <Segment(361.511, 362.294)>, <Segment(364.4, 367.583)>, <Segment(373.484, 375.929)>, <Segment(376.765, 377.011)>, <Segment(378.169, 379.62)>, <Segment(381.88, 383.327)>, <Segment(393.992, 395.14)>, <Segment(395.896, 400.012)>, <Segment(403.058, 403.527)>, <Segment(405.267, 407.256)>, <Segment(421.171, 422.283)>, <Segment(439.736, 442.311)>, <Segment(456.551, 456.992)>, <Segment(465.428, 465.995)>, <Segment(468.043, 468.244)>, <Segment(468.352, 468.992)>, <Segment(482.385, 482.546)>, <Segment(483.005, 484.01)>, <Segment(487.222, 487.88)>, <Segment(488.835, 491.181)>, <Segment(497.732, 500.847)>, <Segment(501.01, 506.292)>, <Segment(520.012, 521.441)>, <Segment(524.122, 529.025)>, <Segment(544.016, 544.185)>, <Segment(544.587, 544.96)>, <Segment(547.466, 548.164)>, <Segment(554.479, 555.289)>, <Segment(576.484, 578.011)>, <Segment(580.789, 581.302)>, <Segment(582.555, 582.982)>, <Segment(583.988, 587.513)>, <Segment(590.681, 592.512)>, <Segment(593.511, 595.492)>, <Segment(603.399, 604.444)>, <Segment(605.563, 607.61)>, <Segment(613.325, 614.94)>, <Segment(617.396, 618.123)>, <Segment(621.424, 622.419)>, <Segment(623.766, 624.355)>, <Segment(630.992, 631.442)>, <Segment(635.497, 635.975)>, <Segment(636.167, 637.121)>, <Segment(645.138, 645.597)>, <Segment(648.872, 650.28)>, <Segment(654.011, 655.601)>, <Segment(661.79, 662.303)>, <Segment(666.573, 667.097)>, <Segment(686.85, 688.578)>, <Segment(691.009, 692.084)>, <Segment(700.81, 701.997)>, <Segment(705.993, 707.096)>, <Segment(707.984, 709.209)>, <Segment(711.825, 713.534)>, <Segment(734.959, 735.492)>, <Segment(737.222, 737.945)>, <Segment(746.326, 746.992)>, <Segment(747.488, 748.209)>, <Segment(749.75, 753.131)>, <Segment(755.111, 756.01)>, <Segment(757.298, 757.708)>, <Segment(768.39, 769.055)>, <Segment(772.266, 772.894)>, <Segment(775.502, 776.161)>, <Segment(777.23, 778.675)>, <Segment(784.963, 785.386)>, <Segment(786.895, 787.879)>, <Segment(791.986, 793.422)>, <Segment(794.234, 794.838)>, <Segment(803.756, 805.991)>, <Segment(811.092, 811.595)>, <Segment(811.757, 812.125)>, <Segment(816.121, 816.882)>, <Segment(817.433, 818.61)>, <Segment(819.769, 821.991)>, <Segment(822.398, 823.436)>, <Segment(825.731, 826.662)>, <Segment(829.239, 829.771)>, <Segment(829.923, 830.993)>, <Segment(833.22, 834.077)>, <Segment(838.765, 839.167)>, <Segment(841.021, 842.01)>, <Segment(843.473, 844.521)>, <Segment(862.292, 862.714)>, <Segment(863.18, 863.492)>, <Segment(864.44, 865.026)>, <Segment(872.184, 872.448)>, <Segment(878.307, 878.938)>, <Segment(885.111, 885.851)>, <Segment(893.511, 894.512)>, <Segment(895.303, 895.96)>, <Segment(898.317, 899.222)>, <Segment(905.511, 907.646)>, <Segment(911.847, 912.06)>, <Segment(923.581, 924.124)>, <Segment(930.724, 931.539)>, <Segment(932.936, 933.444)>, <Segment(934.588, 935.866)>, <Segment(946.291, 947.012)>, <Segment(949.826, 950.493)>, <Segment(950.731, 951.602)>, <Segment(952.012, 952.93)>, <Segment(954.769, 959.013)>, <Segment(959.585, 959.992)>, <Segment(965.609, 966.013)>, <Segment(966.128, 967.005)>, <Segment(968.806, 969.303)>, <Segment(970.491, 972.857)>, <Segment(988.492, 989.577)>, <Segment(990.984, 991.737)>, <Segment(994.312, 994.884)>, <Segment(1004.96, 1007.66)>, <Segment(1009.1, 1011.49)>, <Segment(1013.57, 1014.45)>, <Segment(1014.68, 1016.08)>, <Segment(1018.48, 1019.33)>, <Segment(1021.69, 1023.51)>, <Segment(1032.88, 1033.4)>, <Segment(1037.44, 1037.88)>, <Segment(1041.25, 1041.49)>, <Segment(1042.2, 1043.25)>, <Segment(1047.49, 1048.99)>])>"
            ]
          },
          "metadata": {
            "tags": []
          },
          "execution_count": 12
        }
      ]
    }
  ]
}